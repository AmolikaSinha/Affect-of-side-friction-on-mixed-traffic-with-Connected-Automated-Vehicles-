{
 "cells": [
  {
   "cell_type": "code",
   "execution_count": 1,
   "metadata": {},
   "outputs": [],
   "source": [
    "import pandas as pd\n",
    "import numpy as np"
   ]
  },
  {
   "cell_type": "code",
   "execution_count": 2,
   "metadata": {},
   "outputs": [],
   "source": [
    "#Insert the address of the spw file\n",
    "#df = pd.read_csv('C:\\\\Users\\\\z5130037\\\\OneDrive - UNSW\\CAVSe.csv', delimiter = ';', names = ['Time','Link','Lane', 'VehNo','VehType', 'Line', 'DesSpeed'], dtype = {'Time' : float, 'Link' : float, 'Lane' : float, 'VehNo' : float, 'VehType' : float,'Line' : float, 'DesSpeed' : float }, skiprows =1)\n",
    "df_0 = pd.read_csv(r'C:\\Users\\z5130037\\OneDrive - UNSW\\Honours student Sai\\Danial\\Sample_Data\\1hour3x3\\3x3SPW.csv', delimiter = ';', index_col=False)#, names = ['Time','Link','Lane', 'VehNo','VehType', 'Line', 'DesSpeed'], dtype = {'Time' : float , 'Link' : float, 'Lane' : float, 'VehNo' : float, 'VehType' : float,'Line' : float, 'DesSpeed' : float }, skiprows =1, index_col=False)\n",
    "#df\n",
    "df_0 = df_0.iloc[:,3]\n",
    "#df"
   ]
  },
  {
   "cell_type": "code",
   "execution_count": 3,
   "metadata": {},
   "outputs": [
    {
     "name": "stderr",
     "output_type": "stream",
     "text": [
      "C:\\Users\\z5130037\\AppData\\Local\\Continuum\\anaconda3\\lib\\site-packages\\ipykernel_launcher.py:3: FutureWarning: The signature of `Series.to_csv` was aligned to that of `DataFrame.to_csv`, and argument 'header' will change its default value from False to True: please pass an explicit value to suppress this warning.\n",
      "  This is separate from the ipykernel package so we can avoid doing imports until\n"
     ]
    }
   ],
   "source": [
    "names = ['VehicleID']\n",
    "count = df_0.value_counts()\n",
    "countprint = count.to_csv((r\"C:\\Users\\z5130037\\OneDrive - UNSW\\Honours student Sai\\Danial\\Sample_Data\\1hour3x3\\LaneChange_frequencyTable.csv\"))"
   ]
  },
  {
   "cell_type": "markdown",
   "metadata": {},
   "source": [
    "data = pd.Series([1, 1, 1, 2, 3, 3, 3, 3, 4, 4, 5])\n",
    "\n",
    "#find frequencies of each value\n",
    "data.value_counts()"
   ]
  },
  {
   "cell_type": "code",
   "execution_count": 4,
   "metadata": {},
   "outputs": [
    {
     "name": "stdout",
     "output_type": "stream",
     "text": [
      "83       571\n",
      "15       532\n",
      "14       528\n",
      "79       527\n",
      "46       478\n",
      "38       478\n",
      "142      437\n",
      "3        406\n",
      "7        392\n",
      "149      390\n",
      "134      381\n",
      "23       379\n",
      "60       362\n",
      "21       356\n",
      "20       354\n",
      "39       348\n",
      "19       348\n",
      "16       342\n",
      "166      337\n",
      "71       332\n",
      "57       332\n",
      "8        323\n",
      "17       314\n",
      "12       300\n",
      "78       295\n",
      "153      294\n",
      "37       277\n",
      "25       268\n",
      "80       265\n",
      "30       260\n",
      "        ... \n",
      "10171      2\n",
      "10157      2\n",
      "10150      2\n",
      "10077      2\n",
      "10057      2\n",
      "10176      2\n",
      "10151      2\n",
      "10096      2\n",
      "10129      2\n",
      "10079      2\n",
      "10179      1\n",
      "10059      1\n",
      "10189      1\n",
      "10116      1\n",
      "10180      1\n",
      "10097      1\n",
      "10139      1\n",
      "10091      1\n",
      "10108      1\n",
      "10011      1\n",
      "10186      1\n",
      "10169      1\n",
      "10058      1\n",
      "10119      1\n",
      "10039      1\n",
      "10050      1\n",
      "10130      1\n",
      "10159      1\n",
      "10198      1\n",
      "10184      1\n",
      "Name:  Link_No, Length: 213, dtype: int64\n"
     ]
    }
   ],
   "source": [
    "print(count)"
   ]
  },
  {
   "cell_type": "markdown",
   "metadata": {},
   "source": [
    "# LOGIC 2"
   ]
  },
  {
   "cell_type": "code",
   "execution_count": 5,
   "metadata": {},
   "outputs": [],
   "source": [
    "df = pd.read_csv(r'C:\\Users\\z5130037\\OneDrive - UNSW\\Honours student Sai\\Danial\\Sample_Data\\1hour3x3\\3x3SPW.csv', delimiter = ';', index_col=False)#, names = ['Time','Link','Lane', 'VehNo','VehType', 'Line', 'DesSpeed'], dtype = {'Time' : float , 'Link' : float, 'Lane' : float, 'VehNo' : float, 'VehType' : float,'Line' : float, 'DesSpeed' : float }, skiprows =1, index_col=False)\n",
    "df\n",
    "length = len(df)"
   ]
  },
  {
   "cell_type": "markdown",
   "metadata": {},
   "source": [
    "TOP HORINZONTAL:\n",
    "Link-Lane: 134-2\n",
    "Link-Lane: 166-2\n",
    "\n",
    "MIDDLE VERTICAL:\n",
    "Link-Lane: 142-2\n",
    "Link-Lane: 10200-2\n",
    "\n",
    "BOTTOM HORIZONTAL:\n",
    "Link-Lane: 14-2\n",
    "Link-Lane: 46-2"
   ]
  },
  {
   "cell_type": "markdown",
   "metadata": {},
   "source": [
    "c=0\n",
    "for a in range(0,length):\n",
    "    if df.iloc[a,3]== 134:#Input the link number here\n",
    "        c=c+1\n",
    "        #print(c)\n",
    "        \n",
    "print(\"Verify if this number is matching with the count table\")\n",
    "print(c)\n",
    "\n",
    "j=0\n",
    "k=0\n",
    "#make an empty dataframe\n",
    "for i in range(0,length):\n",
    "    if df.iloc[i,3] == 134 and df.iloc[i,4] == 2:  #Input the link number and lane number correspondingly\n",
    "        \n",
    "        if df.iloc[i,1] != df.iloc[(i-1),1]:\n",
    "            k=k+1\n",
    "            \n",
    "        j=j+1\n",
    "        \n",
    "print(\"Total counted lane change timesteps\")\n",
    "print(j)\n",
    "print(\"Total number of vehicles changing lanes\")\n",
    "print(k)\n",
    "\n"
   ]
  },
  {
   "cell_type": "code",
   "execution_count": 6,
   "metadata": {},
   "outputs": [
    {
     "name": "stdout",
     "output_type": "stream",
     "text": [
      "Verify if this number is matching with the count table for link numnber 134\n",
      "381\n",
      "Total counted lane change timesteps for link numnber 134and lane number 2\n",
      "308\n",
      "Total number of vehicles changing lanes134and lane number 2\n",
      "308\n"
     ]
    }
   ],
   "source": [
    "link_number = 134 #Input the link number here\n",
    "lane_number = 2 #Input the lane number\n",
    "\n",
    "c=0\n",
    "for a in range(0,length):\n",
    "    if df.iloc[a,3]== link_number:\n",
    "        c=c+1\n",
    "        #print(c)\n",
    "        \n",
    "print(\"Verify if this number is matching with the count table for link numnber \" + str(link_number))\n",
    "print(c)\n",
    "\n",
    "j=0\n",
    "k=0\n",
    "#make an empty dataframe\n",
    "for i in range(0,length):\n",
    "    if df.iloc[i,3] == link_number and df.iloc[i,4] == lane_number:  \n",
    "        \n",
    "        if df.iloc[i,1] != df.iloc[(i-1),1]:\n",
    "            k=k+1\n",
    "            \n",
    "        j=j+1\n",
    "        \n",
    "print(\"Total counted lane change timesteps for link numnber \" + str(link_number)+ \"and lane number \" + str(lane_number))\n",
    "print(j)\n",
    "print(\"Total number of vehicles changing lanes\" + str(link_number)+ \"and lane number \" + str(lane_number))\n",
    "print(k)"
   ]
  },
  {
   "cell_type": "code",
   "execution_count": 7,
   "metadata": {},
   "outputs": [
    {
     "name": "stdout",
     "output_type": "stream",
     "text": [
      "Verify if this number is matching with the count table for link numnber 134\n",
      "381\n",
      "Total counted lane change timesteps for link numnber 134and lane number 2\n",
      "308\n",
      "Total number of vehicles changing lanes134and lane number 2\n",
      "308\n"
     ]
    }
   ],
   "source": [
    "link_number = 134 #Input the link number here\n",
    "lane_number = 2 #Input the lane number\n",
    "\n",
    "c=0\n",
    "for a in range(0,length):\n",
    "    if df.iloc[a,3]== link_number:\n",
    "        c=c+1\n",
    "        #print(c)\n",
    "        \n",
    "print(\"Verify if this number is matching with the count table for link numnber \" + str(link_number))\n",
    "print(c)\n",
    "\n",
    "j=0\n",
    "k=0\n",
    "#make an empty dataframe\n",
    "for i in range(0,length):\n",
    "    if df.iloc[i,3] == link_number and df.iloc[i,4] == lane_number:  \n",
    "        \n",
    "        if df.iloc[i,1] != df.iloc[(i-1),1]:\n",
    "            k=k+1\n",
    "            \n",
    "        j=j+1\n",
    "        \n",
    "print(\"Total counted lane change timesteps for link numnber \" + str(link_number)+ \"and lane number \" + str(lane_number))\n",
    "print(j)\n",
    "print(\"Total number of vehicles changing lanes\" + str(link_number)+ \"and lane number \" + str(lane_number))\n",
    "print(k)"
   ]
  },
  {
   "cell_type": "code",
   "execution_count": 8,
   "metadata": {},
   "outputs": [
    {
     "name": "stdout",
     "output_type": "stream",
     "text": [
      "Verify if this number is matching with the count table for link numnber 166\n",
      "337\n",
      "Total counted lane change timesteps for link numnber 166and lane number 2\n",
      "296\n",
      "Total number of vehicles changing lanes166and lane number 2\n",
      "296\n"
     ]
    }
   ],
   "source": [
    "link_number = 166 #Input the link number here\n",
    "lane_number = 2 #Input the lane number\n",
    "\n",
    "c=0\n",
    "for a in range(0,length):\n",
    "    if df.iloc[a,3]== link_number:\n",
    "        c=c+1\n",
    "        #print(c)\n",
    "        \n",
    "print(\"Verify if this number is matching with the count table for link numnber \" + str(link_number))\n",
    "print(c)\n",
    "\n",
    "j=0\n",
    "k=0\n",
    "#make an empty dataframe\n",
    "for i in range(0,length):\n",
    "    if df.iloc[i,3] == link_number and df.iloc[i,4] == lane_number:  \n",
    "        \n",
    "        if df.iloc[i,1] != df.iloc[(i-1),1]:\n",
    "            k=k+1\n",
    "            \n",
    "        j=j+1\n",
    "        \n",
    "print(\"Total counted lane change timesteps for link numnber \" + str(link_number)+ \"and lane number \" + str(lane_number))\n",
    "print(j)\n",
    "print(\"Total number of vehicles changing lanes\" + str(link_number)+ \"and lane number \" + str(lane_number))\n",
    "print(k)"
   ]
  },
  {
   "cell_type": "code",
   "execution_count": 9,
   "metadata": {},
   "outputs": [
    {
     "name": "stdout",
     "output_type": "stream",
     "text": [
      "Verify if this number is matching with the count table for link numnber 142\n",
      "437\n",
      "Total counted lane change timesteps for link numnber 142and lane number 2\n",
      "345\n",
      "Total number of vehicles changing lanes142and lane number 2\n",
      "345\n"
     ]
    }
   ],
   "source": [
    "link_number = 142 #Input the link number here\n",
    "lane_number = 2 #Input the lane number\n",
    "\n",
    "c=0\n",
    "for a in range(0,length):\n",
    "    if df.iloc[a,3]== link_number:\n",
    "        c=c+1\n",
    "        #print(c)\n",
    "        \n",
    "print(\"Verify if this number is matching with the count table for link numnber \" + str(link_number))\n",
    "print(c)\n",
    "\n",
    "j=0\n",
    "k=0\n",
    "#make an empty dataframe\n",
    "for i in range(0,length):\n",
    "    if df.iloc[i,3] == link_number and df.iloc[i,4] == lane_number:  \n",
    "        \n",
    "        if df.iloc[i,1] != df.iloc[(i-1),1]:\n",
    "            k=k+1\n",
    "            \n",
    "        j=j+1\n",
    "        \n",
    "print(\"Total counted lane change timesteps for link numnber \" + str(link_number)+ \"and lane number \" + str(lane_number))\n",
    "print(j)\n",
    "print(\"Total number of vehicles changing lanes\" + str(link_number)+ \"and lane number \" + str(lane_number))\n",
    "print(k)"
   ]
  },
  {
   "cell_type": "code",
   "execution_count": 10,
   "metadata": {},
   "outputs": [
    {
     "name": "stdout",
     "output_type": "stream",
     "text": [
      "Verify if this number is matching with the count table for link numnber 10200\n",
      "180\n",
      "Total counted lane change timesteps for link numnber 10200and lane number 2\n",
      "118\n",
      "Total number of vehicles changing lanes10200and lane number 2\n",
      "118\n"
     ]
    }
   ],
   "source": [
    "link_number = 10200 #Input the link number here\n",
    "lane_number = 2 #Input the lane number\n",
    "\n",
    "c=0\n",
    "for a in range(0,length):\n",
    "    if df.iloc[a,3]== link_number:\n",
    "        c=c+1\n",
    "        #print(c)\n",
    "        \n",
    "print(\"Verify if this number is matching with the count table for link numnber \" + str(link_number))\n",
    "print(c)\n",
    "\n",
    "j=0\n",
    "k=0\n",
    "#make an empty dataframe\n",
    "for i in range(0,length):\n",
    "    if df.iloc[i,3] == link_number and df.iloc[i,4] == lane_number:  \n",
    "        \n",
    "        if df.iloc[i,1] != df.iloc[(i-1),1]:\n",
    "            k=k+1\n",
    "            \n",
    "        j=j+1\n",
    "        \n",
    "print(\"Total counted lane change timesteps for link numnber \" + str(link_number)+ \"and lane number \" + str(lane_number))\n",
    "print(j)\n",
    "print(\"Total number of vehicles changing lanes\" + str(link_number)+ \"and lane number \" + str(lane_number))\n",
    "print(k)"
   ]
  },
  {
   "cell_type": "code",
   "execution_count": 11,
   "metadata": {},
   "outputs": [
    {
     "name": "stdout",
     "output_type": "stream",
     "text": [
      "Verify if this number is matching with the count table for link numnber 14\n",
      "528\n",
      "Total counted lane change timesteps for link numnber 14and lane number 2\n",
      "435\n",
      "Total number of vehicles changing lanes14and lane number 2\n",
      "435\n"
     ]
    }
   ],
   "source": [
    "link_number = 14 #Input the link number here\n",
    "lane_number = 2 #Input the lane number\n",
    "\n",
    "c=0\n",
    "for a in range(0,length):\n",
    "    if df.iloc[a,3]== link_number:\n",
    "        c=c+1\n",
    "        #print(c)\n",
    "        \n",
    "print(\"Verify if this number is matching with the count table for link numnber \" + str(link_number))\n",
    "print(c)\n",
    "\n",
    "j=0\n",
    "k=0\n",
    "#make an empty dataframe\n",
    "for i in range(0,length):\n",
    "    if df.iloc[i,3] == link_number and df.iloc[i,4] == lane_number:  \n",
    "        \n",
    "        if df.iloc[i,1] != df.iloc[(i-1),1]:\n",
    "            k=k+1\n",
    "            \n",
    "        j=j+1\n",
    "        \n",
    "print(\"Total counted lane change timesteps for link numnber \" + str(link_number)+ \"and lane number \" + str(lane_number))\n",
    "print(j)\n",
    "print(\"Total number of vehicles changing lanes\" + str(link_number)+ \"and lane number \" + str(lane_number))\n",
    "print(k)"
   ]
  },
  {
   "cell_type": "code",
   "execution_count": 12,
   "metadata": {},
   "outputs": [
    {
     "name": "stdout",
     "output_type": "stream",
     "text": [
      "Verify if this number is matching with the count table for link numnber 46\n",
      "478\n",
      "Total counted lane change timesteps for link numnber 46and lane number 2\n",
      "396\n",
      "Total number of vehicles changing lanes46and lane number 2\n",
      "396\n"
     ]
    }
   ],
   "source": [
    "link_number = 46 #Input the link number here\n",
    "lane_number = 2 #Input the lane number\n",
    "\n",
    "c=0\n",
    "for a in range(0,length):\n",
    "    if df.iloc[a,3]== link_number:\n",
    "        c=c+1\n",
    "        #print(c)\n",
    "        \n",
    "print(\"Verify if this number is matching with the count table for link numnber \" + str(link_number))\n",
    "print(c)\n",
    "\n",
    "j=0\n",
    "k=0\n",
    "#make an empty dataframe\n",
    "for i in range(0,length):\n",
    "    if df.iloc[i,3] == link_number and df.iloc[i,4] == lane_number:  \n",
    "        \n",
    "        if df.iloc[i,1] != df.iloc[(i-1),1]:\n",
    "            k=k+1\n",
    "            \n",
    "        j=j+1\n",
    "        \n",
    "print(\"Total counted lane change timesteps for link numnber \" + str(link_number)+ \"and lane number \" + str(lane_number))\n",
    "print(j)\n",
    "print(\"Total number of vehicles changing lanes\" + str(link_number)+ \"and lane number \" + str(lane_number))\n",
    "print(k)"
   ]
  },
  {
   "cell_type": "markdown",
   "metadata": {},
   "source": [
    "\n",
    "Change134 = df.loc[df['Link_No'] == '134']\n",
    "#Change134 = df.loc[df[:,3] == 134]\n",
    "\n",
    "Change134\n",
    "#len(Change134)"
   ]
  },
  {
   "cell_type": "code",
   "execution_count": null,
   "metadata": {},
   "outputs": [],
   "source": []
  }
 ],
 "metadata": {
  "kernelspec": {
   "display_name": "Python 3",
   "language": "python",
   "name": "python3"
  },
  "language_info": {
   "codemirror_mode": {
    "name": "ipython",
    "version": 3
   },
   "file_extension": ".py",
   "mimetype": "text/x-python",
   "name": "python",
   "nbconvert_exporter": "python",
   "pygments_lexer": "ipython3",
   "version": "3.7.3"
  }
 },
 "nbformat": 4,
 "nbformat_minor": 2
}
