{
 "cells": [
  {
   "cell_type": "code",
   "execution_count": 127,
   "metadata": {},
   "outputs": [],
   "source": [
    "import pandas as pd\n",
    "import numpy as np"
   ]
  },
  {
   "cell_type": "code",
   "execution_count": 128,
   "metadata": {
    "scrolled": false
   },
   "outputs": [],
   "source": [
    "\n",
    "df = pd.read_csv('C:\\\\Users\\\\z5130037\\\\OneDrive - UNSW\\CAVSeverityResults\\\\D0_results\\\\InputData\\\\0%\\\\FHZ_Files\\\\S000001_001.csv', delimiter = ';', names = ['Time','Link','Lane', 'VehNo','VehType', 'Line', 'DesSpeed'], dtype = {'Time' : float, 'Link' : float, 'Lane' : float, 'VehNo' : float, 'VehType' : float,'Line' : float, 'DesSpeed' : float }, skiprows =1 )\n",
    "#dfdf\n",
    "#df = pd.read_csv('C:\\\\Users\\\\z5130037\\\\OneDrive - UNSW\\CAVSeverityResults\\\\D0_results\\\\InputData\\\\0%\\\\FHZ_Files\\\\S000001_001.csv', delimiter = ';', header =0 , dtype = {'Time' : float, 'Link' : float, 'Lane' : float, 'VehNo' : float, 'VehType' : float,'Line' : float, 'DesSpeed' : float })\n",
    "#df\n",
    "#df[\"VehNo\"]"
   ]
  },
  {
   "cell_type": "code",
   "execution_count": 129,
   "metadata": {},
   "outputs": [],
   "source": [
    "#gk = df.groupby(\"VehType\")\n",
    "#gk.get_group('100')"
   ]
  },
  {
   "cell_type": "code",
   "execution_count": 130,
   "metadata": {},
   "outputs": [
    {
     "name": "stderr",
     "output_type": "stream",
     "text": [
      "C:\\Users\\z5130037\\AppData\\Local\\Continuum\\anaconda3\\lib\\site-packages\\ipykernel_launcher.py:3: FutureWarning: The signature of `Series.to_csv` was aligned to that of `DataFrame.to_csv`, and argument 'header' will change its default value from False to True: please pass an explicit value to suppress this warning.\n",
      "  This is separate from the ipykernel package so we can avoid doing imports until\n",
      "C:\\Users\\z5130037\\AppData\\Local\\Continuum\\anaconda3\\lib\\site-packages\\ipykernel_launcher.py:8: FutureWarning: The signature of `Series.to_csv` was aligned to that of `DataFrame.to_csv`, and argument 'header' will change its default value from False to True: please pass an explicit value to suppress this warning.\n",
      "  \n"
     ]
    }
   ],
   "source": [
    "f = df.loc[df['VehNo'] == 100]\n",
    "f1 = f['Lane']\n",
    "f1save = f1.to_csv((r\"C:\\\\Users\\\\z5130037\\\\OneDrive - UNSW\\CAVSeverityResults\\\\D0_results\\\\InputData\\\\0%\\\\FHZ_Files\\\\bugsbunny\\\\Manual1.csv\"))\n",
    "f2= pd.read_csv(r\"C:\\\\Users\\\\z5130037\\\\OneDrive - UNSW\\CAVSeverityResults\\\\D0_results\\\\InputData\\\\0%\\\\FHZ_Files\\\\bugsbunny\\\\Manual1.csv\", delimiter= ',', names = ['Time', 'VehicleID'])\n",
    "#print(f2.VehicleID)\n",
    "g = df.loc[df['VehNo'] == 101]\n",
    "g1 = g['Lane']\n",
    "g1save = g1.to_csv((r\"C:\\\\Users\\\\z5130037\\\\OneDrive - UNSW\\CAVSeverityResults\\\\D0_results\\\\InputData\\\\0%\\\\FHZ_Files\\\\bugsbunny\\\\CAV1.csv\"))\n",
    "g2= pd.read_csv(r\"C:\\\\Users\\\\z5130037\\\\OneDrive - UNSW\\CAVSeverityResults\\\\D0_results\\\\InputData\\\\0%\\\\FHZ_Files\\\\bugsbunny\\\\CAV1.csv\", delimiter= ',', names = ['Time', 'VehicleID'])\n",
    "\n"
   ]
  },
  {
   "cell_type": "code",
   "execution_count": 131,
   "metadata": {},
   "outputs": [
    {
     "name": "stdout",
     "output_type": "stream",
     "text": [
      "7333\n"
     ]
    },
    {
     "data": {
      "text/plain": [
       "7041"
      ]
     },
     "execution_count": 131,
     "metadata": {},
     "output_type": "execute_result"
    }
   ],
   "source": [
    "#raw_data = pd.read_csv('C:\\\\Users\\\\z5130037\\\\OneDrive - UNSW\\CAVSeverityResults\\\\D0_results\\\\InputData\\\\0%\\\\TRJ_Files\\\\S000001_001conflict.csv', delimiter = ',', names = ['Time','Link','Lane', 'VehNo','VehType', 'Line', 'DesSpeed'], dtype = {'Time' : str, 'Link' : str, 'Lane' : str, 'VehNo' : str, 'VehType' : str,'Line' : str, 'DesSpeed' : str }, skiprows =1 )\n",
    "data = pd.read_csv('C:\\\\Users\\\\z5130037\\\\OneDrive - UNSW\\CAVSeverityResults\\\\D0_results\\\\InputData\\\\0%\\\\TRJ_Files\\\\S000001_001conflict.csv', delimiter = ',', header = 0)\n",
    "#raw_data\n",
    "length = len(data)\n",
    "print(length)\n",
    "data.FirstVID[1]"
   ]
  },
  {
   "cell_type": "code",
   "execution_count": 132,
   "metadata": {},
   "outputs": [],
   "source": [
    "#Append new coloumn\n",
    "data[\"Interaction_Type\"] = \"\"\n",
    "data[\"Interaction_Type_No\"] = \"\"\n",
    "#data"
   ]
  },
  {
   "cell_type": "markdown",
   "metadata": {},
   "source": [
    "x=0\n",
    "y=0\n",
    "if(x==0) and (y==1) :\n",
    "    print (\"True\")\n",
    "else:\n",
    "    print(\"False\")"
   ]
  },
  {
   "cell_type": "markdown",
   "metadata": {},
   "source": [
    "#df[df['id'].isin(['109', '673'])]\n",
    "#data.FirstVID[3]\n",
    "a=1\n",
    "for i in range (0, length):\n",
    "    if (data.FirstVID[i] in (g2.VehicleID)) :\n",
    "    \n",
    "        print(a)\n",
    "        a= a+1"
   ]
  },
  {
   "cell_type": "code",
   "execution_count": 134,
   "metadata": {},
   "outputs": [
    {
     "name": "stderr",
     "output_type": "stream",
     "text": [
      "C:\\Users\\z5130037\\AppData\\Local\\Continuum\\anaconda3\\lib\\site-packages\\ipykernel_launcher.py:4: SettingWithCopyWarning: \n",
      "A value is trying to be set on a copy of a slice from a DataFrame\n",
      "\n",
      "See the caveats in the documentation: http://pandas.pydata.org/pandas-docs/stable/indexing.html#indexing-view-versus-copy\n",
      "  after removing the cwd from sys.path.\n"
     ]
    }
   ],
   "source": [
    "for i in range (0, length):\n",
    "    if(data.FirstVID[i] in (f2.VehicleID)) and (data.SecondVID[i] in (f2.VehicleID)):\n",
    "        #data.Interaction_Type[i] = MV-MV\n",
    "        data.Interaction_Type_No[i] = 0\n",
    "        \n",
    "    if(data.FirstVID[i] in (f2.VehicleID)) and (data.SecondVID[i] in (g2.VehicleID)):\n",
    "        #data.Interaction_Type[i] = MV-AV\n",
    "        data.Interaction_Type_No[i] = 1\n",
    "        \n",
    "    if(data.FirstVID[i] in (g2.VehicleID)) and (data.SecondVID[i] in (f2.VehicleID)):\n",
    "       # data.Interaction_Type[i] = AV-MV\n",
    "        data.Interaction_Type_No[i] = 2\n",
    "        \n",
    "    if(data.FirstVID[i] in (g2.VehicleID)) and (data.SecondVID[i] in (g2.VehicleID)):\n",
    "       # data.Interaction_Type[i] = AV-AV\n",
    "        data.Interaction_Type_No[i] = 3\n",
    "\n",
    "    \n",
    "    "
   ]
  },
  {
   "cell_type": "code",
   "execution_count": 135,
   "metadata": {},
   "outputs": [],
   "source": [
    "datasave = data.to_csv((r\"C:\\\\Users\\\\z5130037\\\\OneDrive - UNSW\\CAVSeverityResults\\\\D0_results\\\\InputData\\\\0%\\\\FHZ_Files\\\\bugsbunny\\\\Final1.csv\"))\n"
   ]
  },
  {
   "cell_type": "code",
   "execution_count": 91,
   "metadata": {},
   "outputs": [
    {
     "name": "stdout",
     "output_type": "stream",
     "text": [
      "1.16.4\n"
     ]
    }
   ],
   "source": [
    "print(np.__version__)"
   ]
  },
  {
   "cell_type": "code",
   "execution_count": 136,
   "metadata": {},
   "outputs": [],
   "source": [
    "import pandas as pd\n",
    "import numpy as np"
   ]
  },
  {
   "cell_type": "code",
   "execution_count": 137,
   "metadata": {},
   "outputs": [
    {
     "name": "stderr",
     "output_type": "stream",
     "text": [
      "C:\\Users\\z5130037\\AppData\\Local\\Continuum\\anaconda3\\lib\\site-packages\\ipykernel_launcher.py:6: FutureWarning: The signature of `Series.to_csv` was aligned to that of `DataFrame.to_csv`, and argument 'header' will change its default value from False to True: please pass an explicit value to suppress this warning.\n",
      "  \n",
      "C:\\Users\\z5130037\\AppData\\Local\\Continuum\\anaconda3\\lib\\site-packages\\ipykernel_launcher.py:11: FutureWarning: The signature of `Series.to_csv` was aligned to that of `DataFrame.to_csv`, and argument 'header' will change its default value from False to True: please pass an explicit value to suppress this warning.\n",
      "  # This is added back by InteractiveShellApp.init_path()\n",
      "C:\\Users\\z5130037\\AppData\\Local\\Continuum\\anaconda3\\lib\\site-packages\\ipykernel_launcher.py:23: SettingWithCopyWarning: \n",
      "A value is trying to be set on a copy of a slice from a DataFrame\n",
      "\n",
      "See the caveats in the documentation: http://pandas.pydata.org/pandas-docs/stable/indexing.html#indexing-view-versus-copy\n"
     ]
    }
   ],
   "source": [
    "#0% seed2\n",
    "df = pd.read_csv('C:\\\\Users\\\\z5130037\\\\OneDrive - UNSW\\CAVSeverityResults\\\\D0_results\\\\InputData\\\\0%\\\\FHZ_Files\\\\S000001_002.csv', delimiter = ';', names = ['Time','Link','Lane', 'VehNo','VehType', 'Line', 'DesSpeed'], dtype = {'Time' : float, 'Link' : float, 'Lane' : float, 'VehNo' : float, 'VehType' : float,'Line' : float, 'DesSpeed' : float }, skiprows =1 )\n",
    "\n",
    "f = df.loc[df['VehNo'] == 100]\n",
    "f1 = f['Lane']\n",
    "f1save = f1.to_csv((r\"C:\\\\Users\\\\z5130037\\\\OneDrive - UNSW\\CAVSeverityResults\\\\D0_results\\\\InputData\\\\0%\\\\FHZ_Files\\\\bugsbunny\\\\Manual0_2.csv\"))\n",
    "f2= pd.read_csv(r\"C:\\\\Users\\\\z5130037\\\\OneDrive - UNSW\\CAVSeverityResults\\\\D0_results\\\\InputData\\\\0%\\\\FHZ_Files\\\\bugsbunny\\\\Manual0_2.csv\", delimiter= ',', names = ['Time', 'VehicleID'])\n",
    "\n",
    "g = df.loc[df['VehNo'] == 101]\n",
    "g1 = g['Lane']\n",
    "g1save = g1.to_csv((r\"C:\\\\Users\\\\z5130037\\\\OneDrive - UNSW\\CAVSeverityResults\\\\D0_results\\\\InputData\\\\0%\\\\FHZ_Files\\\\bugsbunny\\\\CAV0_2.csv\"))\n",
    "g2= pd.read_csv(r\"C:\\\\Users\\\\z5130037\\\\OneDrive - UNSW\\CAVSeverityResults\\\\D0_results\\\\InputData\\\\0%\\\\FHZ_Files\\\\bugsbunny\\\\CAV0_2.csv\", delimiter= ',', names = ['Time', 'VehicleID'])\n",
    "\n",
    "data = pd.read_csv('C:\\\\Users\\\\z5130037\\\\OneDrive - UNSW\\CAVSeverityResults\\\\D0_results\\\\InputData\\\\0%\\\\TRJ_Files\\\\S000001_002conflict.csv', delimiter = ',', header = 0)\n",
    "#raw_data\n",
    "length = len(data)\n",
    "\n",
    "data[\"Interaction_Type_No\"] = \"\"\n",
    "\n",
    "for i in range (0, length):\n",
    "    if(data.FirstVID[i] in (f2.VehicleID)) and (data.SecondVID[i] in (f2.VehicleID)):\n",
    "        #data.Interaction_Type[i] = MV-MV\n",
    "        data.Interaction_Type_No[i] = 0\n",
    "        \n",
    "    if(data.FirstVID[i] in (f2.VehicleID)) and (data.SecondVID[i] in (g2.VehicleID)):\n",
    "        #data.Interaction_Type[i] = MV-AV\n",
    "        data.Interaction_Type_No[i] = 1\n",
    "        \n",
    "    if(data.FirstVID[i] in (g2.VehicleID)) and (data.SecondVID[i] in (f2.VehicleID)):\n",
    "       # data.Interaction_Type[i] = AV-AV\n",
    "        data.Interaction_Type_No[i] = 2\n",
    "        \n",
    "    if(data.FirstVID[i] in (g2.VehicleID)) and (data.SecondVID[i] in (g2.VehicleID)):\n",
    "       # data.Interaction_Type[i] = AV-AV\n",
    "        data.Interaction_Type_No[i] = 3\n",
    "datasave = data.to_csv((r\"C:\\\\Users\\\\z5130037\\\\OneDrive - UNSW\\CAVSeverityResults\\\\D0_results\\\\InputData\\\\0%\\\\FHZ_Files\\\\bugsbunny\\\\Final0_2.csv\"))\n"
   ]
  },
  {
   "cell_type": "code",
   "execution_count": 138,
   "metadata": {},
   "outputs": [
    {
     "name": "stderr",
     "output_type": "stream",
     "text": [
      "C:\\Users\\z5130037\\AppData\\Local\\Continuum\\anaconda3\\lib\\site-packages\\ipykernel_launcher.py:7: FutureWarning: The signature of `Series.to_csv` was aligned to that of `DataFrame.to_csv`, and argument 'header' will change its default value from False to True: please pass an explicit value to suppress this warning.\n",
      "  import sys\n",
      "C:\\Users\\z5130037\\AppData\\Local\\Continuum\\anaconda3\\lib\\site-packages\\ipykernel_launcher.py:12: FutureWarning: The signature of `Series.to_csv` was aligned to that of `DataFrame.to_csv`, and argument 'header' will change its default value from False to True: please pass an explicit value to suppress this warning.\n",
      "  if sys.path[0] == '':\n",
      "C:\\Users\\z5130037\\AppData\\Local\\Continuum\\anaconda3\\lib\\site-packages\\ipykernel_launcher.py:24: SettingWithCopyWarning: \n",
      "A value is trying to be set on a copy of a slice from a DataFrame\n",
      "\n",
      "See the caveats in the documentation: http://pandas.pydata.org/pandas-docs/stable/indexing.html#indexing-view-versus-copy\n"
     ]
    }
   ],
   "source": [
    "#0% seed3\n",
    "df = pd.read_csv('C:\\\\Users\\\\z5130037\\\\OneDrive - UNSW\\CAVSeverityResults\\\\D0_results\\\\InputData\\\\0%\\\\FHZ_Files\\\\S000001_003.csv', delimiter = ';', names = ['Time','Link','Lane', 'VehNo','VehType', 'Line', 'DesSpeed'], dtype = {'Time' : float, 'Link' : float, 'Lane' : float, 'VehNo' : float, 'VehType' : float,'Line' : float, 'DesSpeed' : float }, skiprows =1 )\n",
    "\n",
    "f = df.loc[df['VehNo'] == 100]\n",
    "f1 = f['Lane']\n",
    "f1save = f1.to_csv((r\"C:\\\\Users\\\\z5130037\\\\OneDrive - UNSW\\CAVSeverityResults\\\\D0_results\\\\InputData\\\\0%\\\\FHZ_Files\\\\bugsbunny\\\\Manual0_3.csv\"))\n",
    "f2= pd.read_csv(r\"C:\\\\Users\\\\z5130037\\\\OneDrive - UNSW\\CAVSeverityResults\\\\D0_results\\\\InputData\\\\0%\\\\FHZ_Files\\\\bugsbunny\\\\Manual0_3.csv\", delimiter= ',', names = ['Time', 'VehicleID'])\n",
    "\n",
    "g = df.loc[df['VehNo'] == 101]\n",
    "g1 = g['Lane']\n",
    "g1save = g1.to_csv((r\"C:\\\\Users\\\\z5130037\\\\OneDrive - UNSW\\CAVSeverityResults\\\\D0_results\\\\InputData\\\\0%\\\\FHZ_Files\\\\bugsbunny\\\\CAV0_3.csv\"))\n",
    "g2= pd.read_csv(r\"C:\\\\Users\\\\z5130037\\\\OneDrive - UNSW\\CAVSeverityResults\\\\D0_results\\\\InputData\\\\0%\\\\FHZ_Files\\\\bugsbunny\\\\CAV0_3.csv\", delimiter= ',', names = ['Time', 'VehicleID'])\n",
    "\n",
    "data = pd.read_csv('C:\\\\Users\\\\z5130037\\\\OneDrive - UNSW\\CAVSeverityResults\\\\D0_results\\\\InputData\\\\0%\\\\TRJ_Files\\\\S000001_003conflict.csv', delimiter = ',', header = 0)\n",
    "#raw_data\n",
    "length = len(data)\n",
    "\n",
    "data[\"Interaction_Type_No\"] = \"\"\n",
    "\n",
    "for i in range (0, length):\n",
    "    if(data.FirstVID[i] in (f2.VehicleID)) and (data.SecondVID[i] in (f2.VehicleID)):\n",
    "        #data.Interaction_Type[i] = MV-MV\n",
    "        data.Interaction_Type_No[i] = 0\n",
    "        \n",
    "    if(data.FirstVID[i] in (f2.VehicleID)) and (data.SecondVID[i] in (g2.VehicleID)):\n",
    "        #data.Interaction_Type[i] = MV-AV\n",
    "        data.Interaction_Type_No[i] = 1\n",
    "        \n",
    "    if(data.FirstVID[i] in (g2.VehicleID)) and (data.SecondVID[i] in (f2.VehicleID)):\n",
    "       # data.Interaction_Type[i] = AV-AV\n",
    "        data.Interaction_Type_No[i] = 2\n",
    "        \n",
    "    if(data.FirstVID[i] in (g2.VehicleID)) and (data.SecondVID[i] in (g2.VehicleID)):\n",
    "       # data.Interaction_Type[i] = AV-AV\n",
    "        data.Interaction_Type_No[i] = 3\n",
    "datasave = data.to_csv((r\"C:\\\\Users\\\\z5130037\\\\OneDrive - UNSW\\CAVSeverityResults\\\\D0_results\\\\InputData\\\\0%\\\\FHZ_Files\\\\bugsbunny\\\\Final0_3.csv\"))\n"
   ]
  },
  {
   "cell_type": "code",
   "execution_count": 147,
   "metadata": {},
   "outputs": [
    {
     "ename": "SyntaxError",
     "evalue": "invalid syntax (<ipython-input-147-f5c338a7b9f0>, line 26)",
     "output_type": "error",
     "traceback": [
      "\u001b[1;36m  File \u001b[1;32m\"<ipython-input-147-f5c338a7b9f0>\"\u001b[1;36m, line \u001b[1;32m26\u001b[0m\n\u001b[1;33m    else if((data.FirstVID[i] in (f2.VehicleID)) and (data.SecondVID[i] in (g2.VehicleID))):\u001b[0m\n\u001b[1;37m          ^\u001b[0m\n\u001b[1;31mSyntaxError\u001b[0m\u001b[1;31m:\u001b[0m invalid syntax\n"
     ]
    }
   ],
   "source": [
    "#10% seed1\n",
    "\n",
    "df = pd.read_csv('C:\\\\Users\\\\z5130037\\\\OneDrive - UNSW\\CAVSeverityResults\\\\D0_results\\\\InputData\\\\10%\\\\FHZ_Files\\\\S000002_001.csv', delimiter = ';', names = ['Time','Link','Lane', 'VehNo','VehType', 'Line', 'DesSpeed'], dtype = {'Time' : float, 'Link' : float, 'Lane' : float, 'VehNo' : float, 'VehType' : float,'Line' : float, 'DesSpeed' : float }, skiprows =1 )\n",
    "\n",
    "f = df.loc[df['VehNo'] == 100]\n",
    "f1 = f['Lane']\n",
    "f1save = f1.to_csv((r\"C:\\\\Users\\\\z5130037\\\\OneDrive - UNSW\\CAVSeverityResults\\\\D0_results\\\\InputData\\\\10%\\\\FHZ_Files\\\\bugsbunny1\\\\Manual10_1.csv\"))\n",
    "f2= pd.read_csv(r\"C:\\\\Users\\\\z5130037\\\\OneDrive - UNSW\\CAVSeverityResults\\\\D0_results\\\\InputData\\\\10%\\\\FHZ_Files\\\\bugsbunny1\\\\Manual10_1.csv\", delimiter= ',', names = ['Time', 'VehicleID'])\n",
    "\n",
    "g = df.loc[df['VehNo'] == 101]\n",
    "g1 = g['Lane']\n",
    "g1save = g1.to_csv((r\"C:\\\\Users\\\\z5130037\\\\OneDrive - UNSW\\CAVSeverityResults\\\\D0_results\\\\InputData\\\\10%\\\\FHZ_Files\\\\bugsbunny1\\\\CAV10_1.csv\"))\n",
    "g2= pd.read_csv(r\"C:\\\\Users\\\\z5130037\\\\OneDrive - UNSW\\CAVSeverityResults\\\\D0_results\\\\InputData\\\\10%\\\\FHZ_Files\\\\bugsbunny1\\\\CAV10_1.csv\", delimiter= ',', names = ['Time', 'VehicleID'])\n",
    "\n",
    "data = pd.read_csv('C:\\\\Users\\\\z5130037\\\\OneDrive - UNSW\\CAVSeverityResults\\\\D0_results\\\\InputData\\\\10%\\\\TRJ_Files\\\\S000002_001conflict.csv', delimiter = ',', header = 0)\n",
    "#raw_data\n",
    "length = len(data)\n",
    "\n",
    "data[\"Interaction_Type_No\"] = \"\"\n",
    "\n",
    "for i in range (0, length):\n",
    "    if(data.FirstVID[i] in (f2.VehicleID)) and (data.SecondVID[i] in (f2.VehicleID)):\n",
    "        #data.Interaction_Type[i] = MV-MV\n",
    "        data.Interaction_Type_No[i] = 0\n",
    "        \n",
    "    else if((data.FirstVID[i] in (f2.VehicleID)) and (data.SecondVID[i] in (g2.VehicleID))):\n",
    "        #data.Interaction_Type[i] = MV-AV\n",
    "        data.Interaction_Type_No[i] = 1\n",
    "        \n",
    "    else if(data.FirstVID[i] in (g2.VehicleID)) and (data.SecondVID[i] in (f2.VehicleID)):\n",
    "       # data.Interaction_Type[i] = AV-AV\n",
    "        data.Interaction_Type_No[i] = 2\n",
    "        \n",
    "    else if(data.FirstVID[i] in (g2.VehicleID)) and (data.SecondVID[i] in (g2.VehicleID)):\n",
    "       # data.Interaction_Type[i] = AV-AV\n",
    "        data.Interaction_Type_No[i] = 3\n",
    "        \n",
    "    else:\n",
    "        print(\"something is wrong\")\n",
    "datasave = data.to_csv((r\"C:\\\\Users\\\\z5130037\\\\OneDrive - UNSW\\CAVSeverityResults\\\\D0_results\\\\InputData\\\\10%\\\\FHZ_Files\\\\bugsbunny1\\\\Final10_1.csv\"))\n"
   ]
  },
  {
   "cell_type": "code",
   "execution_count": 159,
   "metadata": {},
   "outputs": [
    {
     "name": "stdout",
     "output_type": "stream",
     "text": [
      "yy\n",
      "yy\n",
      "yy\n",
      "yy\n",
      "yy\n",
      "yy\n",
      "yy\n",
      "yy\n",
      "yy\n",
      "yy\n"
     ]
    }
   ],
   "source": [
    "a=16\n",
    "b=9\n",
    "\n",
    "x= [5, 6, 10, 13]\n",
    "y= [2, 4, 16, 9]\n",
    "for i in range (0,10):\n",
    "    if ((a in x) and (b in x)):\n",
    "        print(\"xx\")\n",
    "    elif((a in x) and (b in y)):\n",
    "        print(\"xy\")\n",
    "    elif((a in y) and (b in x)):\n",
    "        print(\"yx\")\n",
    "    elif((a in y) and (b in y)):\n",
    "        print(\"yy\")\n",
    "    else:\n",
    "        print(\"else\")"
   ]
  },
  {
   "cell_type": "code",
   "execution_count": 155,
   "metadata": {},
   "outputs": [
    {
     "name": "stderr",
     "output_type": "stream",
     "text": [
      "C:\\Users\\z5130037\\AppData\\Local\\Continuum\\anaconda3\\lib\\site-packages\\ipykernel_launcher.py:7: FutureWarning: The signature of `Series.to_csv` was aligned to that of `DataFrame.to_csv`, and argument 'header' will change its default value from False to True: please pass an explicit value to suppress this warning.\n",
      "  import sys\n",
      "C:\\Users\\z5130037\\AppData\\Local\\Continuum\\anaconda3\\lib\\site-packages\\ipykernel_launcher.py:15: FutureWarning: The signature of `Series.to_csv` was aligned to that of `DataFrame.to_csv`, and argument 'header' will change its default value from False to True: please pass an explicit value to suppress this warning.\n",
      "  from ipykernel import kernelapp as app\n",
      "C:\\Users\\z5130037\\AppData\\Local\\Continuum\\anaconda3\\lib\\site-packages\\ipykernel_launcher.py:35: SettingWithCopyWarning: \n",
      "A value is trying to be set on a copy of a slice from a DataFrame\n",
      "\n",
      "See the caveats in the documentation: http://pandas.pydata.org/pandas-docs/stable/indexing.html#indexing-view-versus-copy\n"
     ]
    },
    {
     "name": "stdout",
     "output_type": "stream",
     "text": [
      "7529\n",
      "850\n",
      "8379\n",
      "8379\n"
     ]
    },
    {
     "name": "stderr",
     "output_type": "stream",
     "text": [
      "C:\\Users\\z5130037\\AppData\\Local\\Continuum\\anaconda3\\lib\\site-packages\\ipykernel_launcher.py:39: SettingWithCopyWarning: \n",
      "A value is trying to be set on a copy of a slice from a DataFrame\n",
      "\n",
      "See the caveats in the documentation: http://pandas.pydata.org/pandas-docs/stable/indexing.html#indexing-view-versus-copy\n",
      "C:\\Users\\z5130037\\AppData\\Local\\Continuum\\anaconda3\\lib\\site-packages\\ipykernel_launcher.py:43: SettingWithCopyWarning: \n",
      "A value is trying to be set on a copy of a slice from a DataFrame\n",
      "\n",
      "See the caveats in the documentation: http://pandas.pydata.org/pandas-docs/stable/indexing.html#indexing-view-versus-copy\n",
      "C:\\Users\\z5130037\\AppData\\Local\\Continuum\\anaconda3\\lib\\site-packages\\ipykernel_launcher.py:47: SettingWithCopyWarning: \n",
      "A value is trying to be set on a copy of a slice from a DataFrame\n",
      "\n",
      "See the caveats in the documentation: http://pandas.pydata.org/pandas-docs/stable/indexing.html#indexing-view-versus-copy\n"
     ]
    }
   ],
   "source": [
    "#10% seed2\n",
    "\n",
    "df = pd.read_csv('C:\\\\Users\\\\z5130037\\\\OneDrive - UNSW\\CAVSeverityResults\\\\D0_results\\\\InputData\\\\10%\\\\FHZ_Files\\\\S000002_002.csv', delimiter = ';', names = ['Time','Link','Lane', 'VehNo','VehType', 'Line', 'DesSpeed'], dtype = {'Time' : float, 'Link' : float, 'Lane' : float, 'VehNo' : float, 'VehType' : float,'Line' : float, 'DesSpeed' : float }, skiprows =1 )\n",
    "\n",
    "f = df.loc[df['VehNo'] == 100]\n",
    "f1 = f['Lane']\n",
    "f1save = f1.to_csv((r\"C:\\\\Users\\\\z5130037\\\\OneDrive - UNSW\\CAVSeverityResults\\\\D0_results\\\\InputData\\\\10%\\\\FHZ_Files\\\\bugsbunny1\\\\Manual10_2.csv\"))\n",
    "f2= pd.read_csv(r\"C:\\\\Users\\\\z5130037\\\\OneDrive - UNSW\\CAVSeverityResults\\\\D0_results\\\\InputData\\\\10%\\\\FHZ_Files\\\\bugsbunny1\\\\Manual10_2.csv\", delimiter= ',', names = ['Time', 'VehicleID'])\n",
    "\n",
    "lengthMV = len(f2)\n",
    "print(lengthMV)\n",
    "\n",
    "g = df.loc[df['VehNo'] == 101]\n",
    "g1 = g['Lane']\n",
    "g1save = g1.to_csv((r\"C:\\\\Users\\\\z5130037\\\\OneDrive - UNSW\\CAVSeverityResults\\\\D0_results\\\\InputData\\\\10%\\\\FHZ_Files\\\\bugsbunny1\\\\CAV10_2.csv\"))\n",
    "g2= pd.read_csv(r\"C:\\\\Users\\\\z5130037\\\\OneDrive - UNSW\\CAVSeverityResults\\\\D0_results\\\\InputData\\\\10%\\\\FHZ_Files\\\\bugsbunny1\\\\CAV10_2.csv\", delimiter= ',', names = ['Time', 'VehicleID'])\n",
    "lengthAV = len(g2)\n",
    "print(lengthAV)\n",
    "length_total = lengthMV + lengthAV\n",
    "print(length_total)\n",
    "\n",
    "lengthtot = len(df)\n",
    "print(lengthtot)\n",
    "\n",
    "\n",
    "data = pd.read_csv('C:\\\\Users\\\\z5130037\\\\OneDrive - UNSW\\CAVSeverityResults\\\\D0_results\\\\InputData\\\\10%\\\\TRJ_Files\\\\S000002_002conflict.csv', delimiter = ',', header = 0)\n",
    "#raw_data\n",
    "length = len(data)\n",
    "\n",
    "data[\"Interaction_Type_No\"] = \"\"\n",
    "\n",
    "for i in range (0, length):\n",
    "    if(data.FirstVID[i] in (f2.VehicleID)) and (data.SecondVID[i] in (f2.VehicleID)):\n",
    "        #data.Interaction_Type[i] = MV-MV\n",
    "        data.Interaction_Type_No[i] = 0\n",
    "for i in range (0, length):        \n",
    "    if(data.FirstVID[i] in (f2.VehicleID)) and (data.SecondVID[i] in (g2.VehicleID)):\n",
    "        #data.Interaction_Type[i] = MV-AV\n",
    "        data.Interaction_Type_No[i] = 1\n",
    "for i in range (0, length):       \n",
    "    if(data.FirstVID[i] in (g2.VehicleID)) and (data.SecondVID[i] in (f2.VehicleID)):\n",
    "       # data.Interaction_Type[i] = AV-AV\n",
    "        data.Interaction_Type_No[i] = 2\n",
    "for i in range (0, length):        \n",
    "    if(data.FirstVID[i] in (g2.VehicleID)) and (data.SecondVID[i] in (g2.VehicleID)):\n",
    "       # data.Interaction_Type[i] = AV-AV\n",
    "        data.Interaction_Type_No[i] = 3\n",
    "        \n",
    "    \n",
    "datasave = data.to_csv((r\"C:\\\\Users\\\\z5130037\\\\OneDrive - UNSW\\CAVSeverityResults\\\\D0_results\\\\InputData\\\\10%\\\\FHZ_Files\\\\bugsbunny1\\\\Final10_2.csv\"))\n"
   ]
  },
  {
   "cell_type": "code",
   "execution_count": 143,
   "metadata": {},
   "outputs": [
    {
     "name": "stderr",
     "output_type": "stream",
     "text": [
      "C:\\Users\\z5130037\\AppData\\Local\\Continuum\\anaconda3\\lib\\site-packages\\ipykernel_launcher.py:7: FutureWarning: The signature of `Series.to_csv` was aligned to that of `DataFrame.to_csv`, and argument 'header' will change its default value from False to True: please pass an explicit value to suppress this warning.\n",
      "  import sys\n",
      "C:\\Users\\z5130037\\AppData\\Local\\Continuum\\anaconda3\\lib\\site-packages\\ipykernel_launcher.py:12: FutureWarning: The signature of `Series.to_csv` was aligned to that of `DataFrame.to_csv`, and argument 'header' will change its default value from False to True: please pass an explicit value to suppress this warning.\n",
      "  if sys.path[0] == '':\n",
      "C:\\Users\\z5130037\\AppData\\Local\\Continuum\\anaconda3\\lib\\site-packages\\ipykernel_launcher.py:24: SettingWithCopyWarning: \n",
      "A value is trying to be set on a copy of a slice from a DataFrame\n",
      "\n",
      "See the caveats in the documentation: http://pandas.pydata.org/pandas-docs/stable/indexing.html#indexing-view-versus-copy\n",
      "C:\\Users\\z5130037\\AppData\\Local\\Continuum\\anaconda3\\lib\\site-packages\\ipykernel_launcher.py:28: SettingWithCopyWarning: \n",
      "A value is trying to be set on a copy of a slice from a DataFrame\n",
      "\n",
      "See the caveats in the documentation: http://pandas.pydata.org/pandas-docs/stable/indexing.html#indexing-view-versus-copy\n",
      "C:\\Users\\z5130037\\AppData\\Local\\Continuum\\anaconda3\\lib\\site-packages\\ipykernel_launcher.py:32: SettingWithCopyWarning: \n",
      "A value is trying to be set on a copy of a slice from a DataFrame\n",
      "\n",
      "See the caveats in the documentation: http://pandas.pydata.org/pandas-docs/stable/indexing.html#indexing-view-versus-copy\n",
      "C:\\Users\\z5130037\\AppData\\Local\\Continuum\\anaconda3\\lib\\site-packages\\ipykernel_launcher.py:36: SettingWithCopyWarning: \n",
      "A value is trying to be set on a copy of a slice from a DataFrame\n",
      "\n",
      "See the caveats in the documentation: http://pandas.pydata.org/pandas-docs/stable/indexing.html#indexing-view-versus-copy\n"
     ]
    }
   ],
   "source": [
    "#10% seed3\n",
    "\n",
    "df = pd.read_csv('C:\\\\Users\\\\z5130037\\\\OneDrive - UNSW\\CAVSeverityResults\\\\D0_results\\\\InputData\\\\10%\\\\FHZ_Files\\\\S000002_003.csv', delimiter = ';', names = ['Time','Link','Lane', 'VehNo','VehType', 'Line', 'DesSpeed'], dtype = {'Time' : float, 'Link' : float, 'Lane' : float, 'VehNo' : float, 'VehType' : float,'Line' : float, 'DesSpeed' : float }, skiprows =1 )\n",
    "\n",
    "f = df.loc[df['VehNo'] == 100]\n",
    "f1 = f['Lane']\n",
    "f1save = f1.to_csv((r\"C:\\\\Users\\\\z5130037\\\\OneDrive - UNSW\\CAVSeverityResults\\\\D0_results\\\\InputData\\\\10%\\\\FHZ_Files\\\\bugsbunny\\\\Manual10_3.csv\"))\n",
    "f2= pd.read_csv(r\"C:\\\\Users\\\\z5130037\\\\OneDrive - UNSW\\CAVSeverityResults\\\\D0_results\\\\InputData\\\\10%\\\\FHZ_Files\\\\bugsbunny\\\\Manual10_3.csv\", delimiter= ',', names = ['Time', 'VehicleID'])\n",
    "\n",
    "g = df.loc[df['VehNo'] == 101]\n",
    "g1 = g['Lane']\n",
    "g1save = g1.to_csv((r\"C:\\\\Users\\\\z5130037\\\\OneDrive - UNSW\\CAVSeverityResults\\\\D0_results\\\\InputData\\\\10%\\\\FHZ_Files\\\\bugsbunny\\\\CAV10_3.csv\"))\n",
    "g2= pd.read_csv(r\"C:\\\\Users\\\\z5130037\\\\OneDrive - UNSW\\CAVSeverityResults\\\\D0_results\\\\InputData\\\\10%\\\\FHZ_Files\\\\bugsbunny\\\\CAV10_3.csv\", delimiter= ',', names = ['Time', 'VehicleID'])\n",
    "\n",
    "data = pd.read_csv('C:\\\\Users\\\\z5130037\\\\OneDrive - UNSW\\CAVSeverityResults\\\\D0_results\\\\InputData\\\\10%\\\\TRJ_Files\\\\S000002_003conflict.csv', delimiter = ',', header = 0)\n",
    "#raw_data\n",
    "length = len(data)\n",
    "\n",
    "data[\"Interaction_Type_No\"] = \"\"\n",
    "\n",
    "for i in range (0, length):\n",
    "    if(data.FirstVID[i] in (f2.VehicleID)) and (data.SecondVID[i] in (f2.VehicleID)):\n",
    "        #data.Interaction_Type[i] = MV-MV\n",
    "        data.Interaction_Type_No[i] = 0\n",
    "        \n",
    "    if(data.FirstVID[i] in (f2.VehicleID)) and (data.SecondVID[i] in (g2.VehicleID)):\n",
    "        #data.Interaction_Type[i] = MV-AV\n",
    "        data.Interaction_Type_No[i] = 1\n",
    "        \n",
    "    if(data.FirstVID[i] in (g2.VehicleID)) and (data.SecondVID[i] in (f2.VehicleID)):\n",
    "       # data.Interaction_Type[i] = AV-AV\n",
    "        data.Interaction_Type_No[i] = 2\n",
    "        \n",
    "    if(data.FirstVID[i] in (g2.VehicleID)) and (data.SecondVID[i] in (g2.VehicleID)):\n",
    "       # data.Interaction_Type[i] = AV-AV\n",
    "        data.Interaction_Type_No[i] = 3\n",
    "datasave = data.to_csv((r\"C:\\\\Users\\\\z5130037\\\\OneDrive - UNSW\\CAVSeverityResults\\\\D0_results\\\\InputData\\\\10%\\\\FHZ_Files\\\\bugsbunny\\\\Final10_3.csv\"))\n"
   ]
  },
  {
   "cell_type": "code",
   "execution_count": null,
   "metadata": {},
   "outputs": [],
   "source": [
    "#20% seed1\n",
    "\n",
    "df = pd.read_csv('C:\\\\Users\\\\z5130037\\\\OneDrive - UNSW\\CAVSeverityResults\\\\D0_results\\\\InputData\\\\20%\\\\FHZ_Files\\\\S000003_001.csv', delimiter = ';', names = ['Time','Link','Lane', 'VehNo','VehType', 'Line', 'DesSpeed'], dtype = {'Time' : float, 'Link' : float, 'Lane' : float, 'VehNo' : float, 'VehType' : float,'Line' : float, 'DesSpeed' : float }, skiprows =1 )\n",
    "\n",
    "f = df.loc[df['VehNo'] == 100]\n",
    "f1 = f['Lane']\n",
    "f1save = f1.to_csv((r\"C:\\\\Users\\\\z5130037\\\\OneDrive - UNSW\\CAVSeverityResults\\\\D0_results\\\\InputData\\\\20%\\\\FHZ_Files\\\\bugsbunny\\\\Manual20_1.csv\"))\n",
    "f2= pd.read_csv(r\"C:\\\\Users\\\\z5130037\\\\OneDrive - UNSW\\CAVSeverityResults\\\\D0_results\\\\InputData\\\\20%\\\\FHZ_Files\\\\bugsbunny\\\\Manual20_1.csv\", delimiter= ',', names = ['Time', 'VehicleID'])\n",
    "\n",
    "g = df.loc[df['VehNo'] == 101]\n",
    "g1 = g['Lane']\n",
    "g1save = g1.to_csv((r\"C:\\\\Users\\\\z5130037\\\\OneDrive - UNSW\\CAVSeverityResults\\\\D0_results\\\\InputData\\\\20%\\\\FHZ_Files\\\\bugsbunny\\\\CAV20_1.csv\"))\n",
    "g2= pd.read_csv(r\"C:\\\\Users\\\\z5130037\\\\OneDrive - UNSW\\CAVSeverityResults\\\\D0_results\\\\InputData\\\\20%\\\\FHZ_Files\\\\bugsbunny\\\\CAV20_1.csv\", delimiter= ',', names = ['Time', 'VehicleID'])\n",
    "\n",
    "data = pd.read_csv('C:\\\\Users\\\\z5130037\\\\OneDrive - UNSW\\CAVSeverityResults\\\\D0_results\\\\InputData\\\\20%\\\\TRJ_Files\\\\S000003_001conflict.csv', delimiter = ',', header = 0)\n",
    "#raw_data\n",
    "length = len(data)\n",
    "\n",
    "data[\"Interaction_Type_No\"] = \"\"\n",
    "\n",
    "for i in range (0, length):\n",
    "    if(data.FirstVID[i] in (f2.VehicleID)) and (data.SecondVID[i] in (f2.VehicleID)):\n",
    "        #data.Interaction_Type[i] = MV-MV\n",
    "        data.Interaction_Type_No[i] = 0\n",
    "        \n",
    "    if(data.FirstVID[i] in (f2.VehicleID)) and (data.SecondVID[i] in (g2.VehicleID)):\n",
    "        #data.Interaction_Type[i] = MV-AV\n",
    "        data.Interaction_Type_No[i] = 1\n",
    "        \n",
    "    if(data.FirstVID[i] in (g2.VehicleID)) and (data.SecondVID[i] in (f2.VehicleID)):\n",
    "       # data.Interaction_Type[i] = AV-AV\n",
    "        data.Interaction_Type_No[i] = 2\n",
    "        \n",
    "    if(data.FirstVID[i] in (g2.VehicleID)) and (data.SecondVID[i] in (g2.VehicleID)):\n",
    "       # data.Interaction_Type[i] = AV-AV\n",
    "        data.Interaction_Type_No[i] = 3\n",
    "datasave = data.to_csv((r\"C:\\\\Users\\\\z5130037\\\\OneDrive - UNSW\\CAVSeverityResults\\\\D0_results\\\\InputData\\\\20%\\\\FHZ_Files\\\\bugsbunny\\\\Final20_1.csv\"))\n"
   ]
  },
  {
   "cell_type": "code",
   "execution_count": null,
   "metadata": {},
   "outputs": [],
   "source": [
    "#20% seed2\n",
    "\n",
    "df = pd.read_csv('C:\\\\Users\\\\z5130037\\\\OneDrive - UNSW\\CAVSeverityResults\\\\D0_results\\\\InputData\\\\20%\\\\FHZ_Files\\\\S000003_002.csv', delimiter = ';', names = ['Time','Link','Lane', 'VehNo','VehType', 'Line', 'DesSpeed'], dtype = {'Time' : float, 'Link' : float, 'Lane' : float, 'VehNo' : float, 'VehType' : float,'Line' : float, 'DesSpeed' : float }, skiprows =1 )\n",
    "\n",
    "f = df.loc[df['VehNo'] == 100]\n",
    "f1 = f['Lane']\n",
    "f1save = f1.to_csv((r\"C:\\\\Users\\\\z5130037\\\\OneDrive - UNSW\\CAVSeverityResults\\\\D0_results\\\\InputData\\\\20%\\\\FHZ_Files\\\\bugsbunny\\\\Manual20_2.csv\"))\n",
    "f2= pd.read_csv(r\"C:\\\\Users\\\\z5130037\\\\OneDrive - UNSW\\CAVSeverityResults\\\\D0_results\\\\InputData\\\\20%\\\\FHZ_Files\\\\bugsbunny\\\\Manual20_2.csv\", delimiter= ',', names = ['Time', 'VehicleID'])\n",
    "\n",
    "g = df.loc[df['VehNo'] == 101]\n",
    "g1 = g['Lane']\n",
    "g1save = g1.to_csv((r\"C:\\\\Users\\\\z5130037\\\\OneDrive - UNSW\\CAVSeverityResults\\\\D0_results\\\\InputData\\\\20%\\\\FHZ_Files\\\\bugsbunny\\\\CAV20_2.csv\"))\n",
    "g2= pd.read_csv(r\"C:\\\\Users\\\\z5130037\\\\OneDrive - UNSW\\CAVSeverityResults\\\\D0_results\\\\InputData\\\\20%\\\\FHZ_Files\\\\bugsbunny\\\\CAV20_2.csv\", delimiter= ',', names = ['Time', 'VehicleID'])\n",
    "\n",
    "data = pd.read_csv('C:\\\\Users\\\\z5130037\\\\OneDrive - UNSW\\CAVSeverityResults\\\\D0_results\\\\InputData\\\\20%\\\\TRJ_Files\\\\S000003_002conflict.csv', delimiter = ',', header = 0)\n",
    "#raw_data\n",
    "length = len(data)\n",
    "\n",
    "data[\"Interaction_Type_No\"] = \"\"\n",
    "\n",
    "for i in range (0, length):\n",
    "    if(data.FirstVID[i] in (f2.VehicleID)) and (data.SecondVID[i] in (f2.VehicleID)):\n",
    "        #data.Interaction_Type[i] = MV-MV\n",
    "        data.Interaction_Type_No[i] = 0\n",
    "        \n",
    "    if(data.FirstVID[i] in (f2.VehicleID)) and (data.SecondVID[i] in (g2.VehicleID)):\n",
    "        #data.Interaction_Type[i] = MV-AV\n",
    "        data.Interaction_Type_No[i] = 1\n",
    "        \n",
    "    if(data.FirstVID[i] in (g2.VehicleID)) and (data.SecondVID[i] in (f2.VehicleID)):\n",
    "       # data.Interaction_Type[i] = AV-AV\n",
    "        data.Interaction_Type_No[i] = 2\n",
    "        \n",
    "    if(data.FirstVID[i] in (g2.VehicleID)) and (data.SecondVID[i] in (g2.VehicleID)):\n",
    "       # data.Interaction_Type[i] = AV-AV\n",
    "        data.Interaction_Type_No[i] = 3\n",
    "datasave = data.to_csv((r\"C:\\\\Users\\\\z5130037\\\\OneDrive - UNSW\\CAVSeverityResults\\\\D0_results\\\\InputData\\\\20%\\\\FHZ_Files\\\\bugsbunny\\\\Final20_2.csv\"))\n"
   ]
  },
  {
   "cell_type": "code",
   "execution_count": null,
   "metadata": {},
   "outputs": [],
   "source": [
    "#20% seed3\n",
    "\n",
    "df = pd.read_csv('C:\\\\Users\\\\z5130037\\\\OneDrive - UNSW\\CAVSeverityResults\\\\D0_results\\\\InputData\\\\20%\\\\FHZ_Files\\\\S000003_003.csv', delimiter = ';', names = ['Time','Link','Lane', 'VehNo','VehType', 'Line', 'DesSpeed'], dtype = {'Time' : float, 'Link' : float, 'Lane' : float, 'VehNo' : float, 'VehType' : float,'Line' : float, 'DesSpeed' : float }, skiprows =1 )\n",
    "\n",
    "f = df.loc[df['VehNo'] == 100]\n",
    "f1 = f['Lane']\n",
    "f1save = f1.to_csv((r\"C:\\\\Users\\\\z5130037\\\\OneDrive - UNSW\\CAVSeverityResults\\\\D0_results\\\\InputData\\\\20%\\\\FHZ_Files\\\\bugsbunny\\\\Manual20_3.csv\"))\n",
    "f2= pd.read_csv(r\"C:\\\\Users\\\\z5130037\\\\OneDrive - UNSW\\CAVSeverityResults\\\\D0_results\\\\InputData\\\\20%\\\\FHZ_Files\\\\bugsbunny\\\\Manual20_3.csv\", delimiter= ',', names = ['Time', 'VehicleID'])\n",
    "\n",
    "g = df.loc[df['VehNo'] == 101]\n",
    "g1 = g['Lane']\n",
    "g1save = g1.to_csv((r\"C:\\\\Users\\\\z5130037\\\\OneDrive - UNSW\\CAVSeverityResults\\\\D0_results\\\\InputData\\\\20%\\\\FHZ_Files\\\\bugsbunny\\\\CAV20_3.csv\"))\n",
    "g2= pd.read_csv(r\"C:\\\\Users\\\\z5130037\\\\OneDrive - UNSW\\CAVSeverityResults\\\\D0_results\\\\InputData\\\\20%\\\\FHZ_Files\\\\bugsbunny\\\\CAV20_3.csv\", delimiter= ',', names = ['Time', 'VehicleID'])\n",
    "\n",
    "data = pd.read_csv('C:\\\\Users\\\\z5130037\\\\OneDrive - UNSW\\CAVSeverityResults\\\\D0_results\\\\InputData\\\\20%\\\\TRJ_Files\\\\S000003_003conflict.csv', delimiter = ',', header = 0)\n",
    "#raw_data\n",
    "length = len(data)\n",
    "\n",
    "data[\"Interaction_Type_No\"] = \"\"\n",
    "\n",
    "for i in range (0, length):\n",
    "    if(data.FirstVID[i] in (f2.VehicleID)) and (data.SecondVID[i] in (f2.VehicleID)):\n",
    "        #data.Interaction_Type[i] = MV-MV\n",
    "        data.Interaction_Type_No[i] = 0\n",
    "        \n",
    "    if(data.FirstVID[i] in (f2.VehicleID)) and (data.SecondVID[i] in (g2.VehicleID)):\n",
    "        #data.Interaction_Type[i] = MV-AV\n",
    "        data.Interaction_Type_No[i] = 1\n",
    "        \n",
    "    if(data.FirstVID[i] in (g2.VehicleID)) and (data.SecondVID[i] in (f2.VehicleID)):\n",
    "       # data.Interaction_Type[i] = AV-AV\n",
    "        data.Interaction_Type_No[i] = 2\n",
    "        \n",
    "    if(data.FirstVID[i] in (g2.VehicleID)) and (data.SecondVID[i] in (g2.VehicleID)):\n",
    "       # data.Interaction_Type[i] = AV-AV\n",
    "        data.Interaction_Type_No[i] = 3\n",
    "datasave = data.to_csv((r\"C:\\\\Users\\\\z5130037\\\\OneDrive - UNSW\\CAVSeverityResults\\\\D0_results\\\\InputData\\\\20%\\\\FHZ_Files\\\\bugsbunny\\\\Final20_3.csv\"))\n"
   ]
  },
  {
   "cell_type": "code",
   "execution_count": null,
   "metadata": {},
   "outputs": [],
   "source": [
    "#30% seed1\n",
    "\n",
    "df = pd.read_csv('C:\\\\Users\\\\z5130037\\\\OneDrive - UNSW\\CAVSeverityResults\\\\D0_results\\\\InputData\\\\0%\\\\FHZ_Files\\\\S000001_002.csv', delimiter = ';', names = ['Time','Link','Lane', 'VehNo','VehType', 'Line', 'DesSpeed'], dtype = {'Time' : float, 'Link' : float, 'Lane' : float, 'VehNo' : float, 'VehType' : float,'Line' : float, 'DesSpeed' : float }, skiprows =1 )\n",
    "\n",
    "f = df.loc[df['VehNo'] == 100]\n",
    "f1 = f['Lane']\n",
    "f1save = f1.to_csv((r\"C:\\\\Users\\\\z5130037\\\\OneDrive - UNSW\\CAVSeverityResults\\\\D0_results\\\\InputData\\\\0%\\\\FHZ_Files\\\\bugsbunny\\\\Manual0_2.csv\"))\n",
    "f2= pd.read_csv(r\"C:\\\\Users\\\\z5130037\\\\OneDrive - UNSW\\CAVSeverityResults\\\\D0_results\\\\InputData\\\\0%\\\\FHZ_Files\\\\bugsbunny\\\\Manual0_2.csv\", delimiter= ',', names = ['Time', 'VehicleID'])\n",
    "\n",
    "g = df.loc[df['VehNo'] == 101]\n",
    "g1 = g['Lane']\n",
    "g1save = g1.to_csv((r\"C:\\\\Users\\\\z5130037\\\\OneDrive - UNSW\\CAVSeverityResults\\\\D0_results\\\\InputData\\\\0%\\\\FHZ_Files\\\\bugsbunny\\\\CAV0_2.csv\"))\n",
    "g2= pd.read_csv(r\"C:\\\\Users\\\\z5130037\\\\OneDrive - UNSW\\CAVSeverityResults\\\\D0_results\\\\InputData\\\\0%\\\\FHZ_Files\\\\bugsbunny\\\\CAV0_2.csv\", delimiter= ',', names = ['Time', 'VehicleID'])\n",
    "\n",
    "data = pd.read_csv('C:\\\\Users\\\\z5130037\\\\OneDrive - UNSW\\CAVSeverityResults\\\\D0_results\\\\InputData\\\\0%\\\\TRJ_Files\\\\S000001_002conflict.csv', delimiter = ',', header = 0)\n",
    "#raw_data\n",
    "length = len(data)\n",
    "\n",
    "data[\"Interaction_Type_No\"] = \"\"\n",
    "\n",
    "for i in range (0, length):\n",
    "    if(data.FirstVID[i] in (f2.VehicleID)) and (data.SecondVID[i] in (f2.VehicleID)):\n",
    "        #data.Interaction_Type[i] = MV-MV\n",
    "        data.Interaction_Type_No[i] = 0\n",
    "        \n",
    "    if(data.FirstVID[i] in (f2.VehicleID)) and (data.SecondVID[i] in (g2.VehicleID)):\n",
    "        #data.Interaction_Type[i] = MV-AV\n",
    "        data.Interaction_Type_No[i] = 1\n",
    "        \n",
    "    if(data.FirstVID[i] in (g2.VehicleID)) and (data.SecondVID[i] in (f2.VehicleID)):\n",
    "       # data.Interaction_Type[i] = AV-AV\n",
    "        data.Interaction_Type_No[i] = 2\n",
    "        \n",
    "    if(data.FirstVID[i] in (g2.VehicleID)) and (data.SecondVID[i] in (g2.VehicleID)):\n",
    "       # data.Interaction_Type[i] = AV-AV\n",
    "        data.Interaction_Type_No[i] = 3\n",
    "datasave = data.to_csv((r\"C:\\\\Users\\\\z5130037\\\\OneDrive - UNSW\\CAVSeverityResults\\\\D0_results\\\\InputData\\\\0%\\\\FHZ_Files\\\\bugsbunny\\\\Final0_2.csv\"))\n"
   ]
  },
  {
   "cell_type": "code",
   "execution_count": null,
   "metadata": {},
   "outputs": [],
   "source": [
    "#30% seed2\n",
    "df = pd.read_csv('C:\\\\Users\\\\z5130037\\\\OneDrive - UNSW\\CAVSeverityResults\\\\D0_results\\\\InputData\\\\0%\\\\FHZ_Files\\\\S000001_002.csv', delimiter = ';', names = ['Time','Link','Lane', 'VehNo','VehType', 'Line', 'DesSpeed'], dtype = {'Time' : float, 'Link' : float, 'Lane' : float, 'VehNo' : float, 'VehType' : float,'Line' : float, 'DesSpeed' : float }, skiprows =1 )\n",
    "\n",
    "f = df.loc[df['VehNo'] == 100]\n",
    "f1 = f['Lane']\n",
    "f1save = f1.to_csv((r\"C:\\\\Users\\\\z5130037\\\\OneDrive - UNSW\\CAVSeverityResults\\\\D0_results\\\\InputData\\\\0%\\\\FHZ_Files\\\\bugsbunny\\\\Manual0_2.csv\"))\n",
    "f2= pd.read_csv(r\"C:\\\\Users\\\\z5130037\\\\OneDrive - UNSW\\CAVSeverityResults\\\\D0_results\\\\InputData\\\\0%\\\\FHZ_Files\\\\bugsbunny\\\\Manual0_2.csv\", delimiter= ',', names = ['Time', 'VehicleID'])\n",
    "\n",
    "g = df.loc[df['VehNo'] == 101]\n",
    "g1 = g['Lane']\n",
    "g1save = g1.to_csv((r\"C:\\\\Users\\\\z5130037\\\\OneDrive - UNSW\\CAVSeverityResults\\\\D0_results\\\\InputData\\\\0%\\\\FHZ_Files\\\\bugsbunny\\\\CAV0_2.csv\"))\n",
    "g2= pd.read_csv(r\"C:\\\\Users\\\\z5130037\\\\OneDrive - UNSW\\CAVSeverityResults\\\\D0_results\\\\InputData\\\\0%\\\\FHZ_Files\\\\bugsbunny\\\\CAV0_2.csv\", delimiter= ',', names = ['Time', 'VehicleID'])\n",
    "\n",
    "data = pd.read_csv('C:\\\\Users\\\\z5130037\\\\OneDrive - UNSW\\CAVSeverityResults\\\\D0_results\\\\InputData\\\\0%\\\\TRJ_Files\\\\S000001_002conflict.csv', delimiter = ',', header = 0)\n",
    "#raw_data\n",
    "length = len(data)\n",
    "\n",
    "data[\"Interaction_Type_No\"] = \"\"\n",
    "\n",
    "for i in range (0, length):\n",
    "    if(data.FirstVID[i] in (f2.VehicleID)) and (data.SecondVID[i] in (f2.VehicleID)):\n",
    "        #data.Interaction_Type[i] = MV-MV\n",
    "        data.Interaction_Type_No[i] = 0\n",
    "        \n",
    "    if(data.FirstVID[i] in (f2.VehicleID)) and (data.SecondVID[i] in (g2.VehicleID)):\n",
    "        #data.Interaction_Type[i] = MV-AV\n",
    "        data.Interaction_Type_No[i] = 1\n",
    "        \n",
    "    if(data.FirstVID[i] in (g2.VehicleID)) and (data.SecondVID[i] in (f2.VehicleID)):\n",
    "       # data.Interaction_Type[i] = AV-AV\n",
    "        data.Interaction_Type_No[i] = 2\n",
    "        \n",
    "    if(data.FirstVID[i] in (g2.VehicleID)) and (data.SecondVID[i] in (g2.VehicleID)):\n",
    "       # data.Interaction_Type[i] = AV-AV\n",
    "        data.Interaction_Type_No[i] = 3\n",
    "datasave = data.to_csv((r\"C:\\\\Users\\\\z5130037\\\\OneDrive - UNSW\\CAVSeverityResults\\\\D0_results\\\\InputData\\\\0%\\\\FHZ_Files\\\\bugsbunny\\\\Final0_2.csv\"))\n"
   ]
  },
  {
   "cell_type": "code",
   "execution_count": null,
   "metadata": {},
   "outputs": [],
   "source": [
    "#30% seed3"
   ]
  },
  {
   "cell_type": "code",
   "execution_count": null,
   "metadata": {},
   "outputs": [],
   "source": [
    "#40% seed1"
   ]
  },
  {
   "cell_type": "code",
   "execution_count": null,
   "metadata": {},
   "outputs": [],
   "source": [
    "#40% seed2"
   ]
  },
  {
   "cell_type": "code",
   "execution_count": null,
   "metadata": {},
   "outputs": [],
   "source": [
    "#40% seed3"
   ]
  },
  {
   "cell_type": "code",
   "execution_count": null,
   "metadata": {},
   "outputs": [],
   "source": [
    "#50% seed1"
   ]
  },
  {
   "cell_type": "code",
   "execution_count": null,
   "metadata": {},
   "outputs": [],
   "source": [
    "#50% seed2"
   ]
  },
  {
   "cell_type": "code",
   "execution_count": null,
   "metadata": {},
   "outputs": [],
   "source": [
    "#50% seed3"
   ]
  },
  {
   "cell_type": "code",
   "execution_count": null,
   "metadata": {},
   "outputs": [],
   "source": [
    "#60% seed1"
   ]
  },
  {
   "cell_type": "code",
   "execution_count": null,
   "metadata": {},
   "outputs": [],
   "source": [
    "#60% seed2"
   ]
  },
  {
   "cell_type": "code",
   "execution_count": null,
   "metadata": {},
   "outputs": [],
   "source": [
    "#60% seed3"
   ]
  },
  {
   "cell_type": "code",
   "execution_count": null,
   "metadata": {},
   "outputs": [],
   "source": [
    "#70% seed1"
   ]
  },
  {
   "cell_type": "code",
   "execution_count": null,
   "metadata": {},
   "outputs": [],
   "source": [
    "#70% seed2"
   ]
  },
  {
   "cell_type": "code",
   "execution_count": null,
   "metadata": {},
   "outputs": [],
   "source": [
    "#70% seed3"
   ]
  },
  {
   "cell_type": "code",
   "execution_count": null,
   "metadata": {},
   "outputs": [],
   "source": [
    "#80% seed1"
   ]
  },
  {
   "cell_type": "code",
   "execution_count": null,
   "metadata": {},
   "outputs": [],
   "source": [
    "#80% seed2"
   ]
  },
  {
   "cell_type": "code",
   "execution_count": null,
   "metadata": {},
   "outputs": [],
   "source": [
    "#80% seed3"
   ]
  },
  {
   "cell_type": "code",
   "execution_count": null,
   "metadata": {},
   "outputs": [],
   "source": [
    "#90% seed1"
   ]
  },
  {
   "cell_type": "code",
   "execution_count": null,
   "metadata": {},
   "outputs": [],
   "source": [
    "#90% seed2"
   ]
  },
  {
   "cell_type": "code",
   "execution_count": null,
   "metadata": {},
   "outputs": [],
   "source": [
    "#90% seed3"
   ]
  },
  {
   "cell_type": "code",
   "execution_count": null,
   "metadata": {},
   "outputs": [],
   "source": [
    "#100% seed1"
   ]
  },
  {
   "cell_type": "code",
   "execution_count": null,
   "metadata": {},
   "outputs": [],
   "source": [
    "#100% seed2"
   ]
  },
  {
   "cell_type": "code",
   "execution_count": null,
   "metadata": {},
   "outputs": [],
   "source": [
    "#100% seed3"
   ]
  }
 ],
 "metadata": {
  "kernelspec": {
   "display_name": "Python 3",
   "language": "python",
   "name": "python3"
  },
  "language_info": {
   "codemirror_mode": {
    "name": "ipython",
    "version": 3
   },
   "file_extension": ".py",
   "mimetype": "text/x-python",
   "name": "python",
   "nbconvert_exporter": "python",
   "pygments_lexer": "ipython3",
   "version": "3.7.3"
  }
 },
 "nbformat": 4,
 "nbformat_minor": 2
}
