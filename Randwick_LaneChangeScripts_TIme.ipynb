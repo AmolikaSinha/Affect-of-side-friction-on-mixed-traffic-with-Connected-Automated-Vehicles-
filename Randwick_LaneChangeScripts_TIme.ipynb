{
 "cells": [
  {
   "cell_type": "code",
   "execution_count": 15,
   "metadata": {},
   "outputs": [],
   "source": [
    "import pandas as pd\n",
    "import numpy as np"
   ]
  },
  {
   "cell_type": "code",
   "execution_count": 16,
   "metadata": {},
   "outputs": [
    {
     "ename": "IndexError",
     "evalue": "single positional indexer is out-of-bounds",
     "output_type": "error",
     "traceback": [
      "\u001b[1;31m---------------------------------------------------------------------------\u001b[0m",
      "\u001b[1;31mIndexError\u001b[0m                                Traceback (most recent call last)",
      "\u001b[1;32m<ipython-input-16-3e2e3b7f74ae>\u001b[0m in \u001b[0;36m<module>\u001b[1;34m\u001b[0m\n\u001b[0;32m      3\u001b[0m \u001b[0mdf_0\u001b[0m \u001b[1;33m=\u001b[0m \u001b[0mpd\u001b[0m\u001b[1;33m.\u001b[0m\u001b[0mread_csv\u001b[0m\u001b[1;33m(\u001b[0m\u001b[1;34mr'C:\\Users\\hp\\OneDrive - UNSW\\Honours student Sai\\Danial\\Sample_Data\\1hour3x3\\3x3SPW.csv'\u001b[0m\u001b[1;33m,\u001b[0m \u001b[0mdelimiter\u001b[0m \u001b[1;33m=\u001b[0m \u001b[1;34m';'\u001b[0m\u001b[1;33m,\u001b[0m \u001b[0mindex_col\u001b[0m\u001b[1;33m=\u001b[0m\u001b[1;32mFalse\u001b[0m\u001b[1;33m)\u001b[0m\u001b[1;31m#, names = ['Time','Link','Lane', 'VehNo','VehType', 'Line', 'DesSpeed'], dtype = {'Time' : float , 'Link' : float, 'Lane' : float, 'VehNo' : float, 'VehType' : float,'Line' : float, 'DesSpeed' : float }, skiprows =1, index_col=False)\u001b[0m\u001b[1;33m\u001b[0m\u001b[1;33m\u001b[0m\u001b[0m\n\u001b[0;32m      4\u001b[0m \u001b[1;31m#df\u001b[0m\u001b[1;33m\u001b[0m\u001b[1;33m\u001b[0m\u001b[1;33m\u001b[0m\u001b[0m\n\u001b[1;32m----> 5\u001b[1;33m \u001b[0mdf_0\u001b[0m \u001b[1;33m=\u001b[0m \u001b[0mdf_0\u001b[0m\u001b[1;33m.\u001b[0m\u001b[0miloc\u001b[0m\u001b[1;33m[\u001b[0m\u001b[1;33m:\u001b[0m\u001b[1;33m,\u001b[0m\u001b[1;36m3\u001b[0m\u001b[1;33m]\u001b[0m\u001b[1;33m\u001b[0m\u001b[1;33m\u001b[0m\u001b[0m\n\u001b[0m\u001b[0;32m      6\u001b[0m \u001b[1;31m#df_0\u001b[0m\u001b[1;33m\u001b[0m\u001b[1;33m\u001b[0m\u001b[1;33m\u001b[0m\u001b[0m\n",
      "\u001b[1;32m~\\anaconda3\\lib\\site-packages\\pandas\\core\\indexing.py\u001b[0m in \u001b[0;36m__getitem__\u001b[1;34m(self, key)\u001b[0m\n\u001b[0;32m   1416\u001b[0m                 \u001b[1;32mexcept\u001b[0m \u001b[1;33m(\u001b[0m\u001b[0mKeyError\u001b[0m\u001b[1;33m,\u001b[0m \u001b[0mIndexError\u001b[0m\u001b[1;33m,\u001b[0m \u001b[0mAttributeError\u001b[0m\u001b[1;33m)\u001b[0m\u001b[1;33m:\u001b[0m\u001b[1;33m\u001b[0m\u001b[1;33m\u001b[0m\u001b[0m\n\u001b[0;32m   1417\u001b[0m                     \u001b[1;32mpass\u001b[0m\u001b[1;33m\u001b[0m\u001b[1;33m\u001b[0m\u001b[0m\n\u001b[1;32m-> 1418\u001b[1;33m             \u001b[1;32mreturn\u001b[0m \u001b[0mself\u001b[0m\u001b[1;33m.\u001b[0m\u001b[0m_getitem_tuple\u001b[0m\u001b[1;33m(\u001b[0m\u001b[0mkey\u001b[0m\u001b[1;33m)\u001b[0m\u001b[1;33m\u001b[0m\u001b[1;33m\u001b[0m\u001b[0m\n\u001b[0m\u001b[0;32m   1419\u001b[0m         \u001b[1;32melse\u001b[0m\u001b[1;33m:\u001b[0m\u001b[1;33m\u001b[0m\u001b[1;33m\u001b[0m\u001b[0m\n\u001b[0;32m   1420\u001b[0m             \u001b[1;31m# we by definition only have the 0th axis\u001b[0m\u001b[1;33m\u001b[0m\u001b[1;33m\u001b[0m\u001b[1;33m\u001b[0m\u001b[0m\n",
      "\u001b[1;32m~\\anaconda3\\lib\\site-packages\\pandas\\core\\indexing.py\u001b[0m in \u001b[0;36m_getitem_tuple\u001b[1;34m(self, tup)\u001b[0m\n\u001b[0;32m   2090\u001b[0m     \u001b[1;32mdef\u001b[0m \u001b[0m_getitem_tuple\u001b[0m\u001b[1;33m(\u001b[0m\u001b[0mself\u001b[0m\u001b[1;33m,\u001b[0m \u001b[0mtup\u001b[0m\u001b[1;33m)\u001b[0m\u001b[1;33m:\u001b[0m\u001b[1;33m\u001b[0m\u001b[1;33m\u001b[0m\u001b[0m\n\u001b[0;32m   2091\u001b[0m \u001b[1;33m\u001b[0m\u001b[0m\n\u001b[1;32m-> 2092\u001b[1;33m         \u001b[0mself\u001b[0m\u001b[1;33m.\u001b[0m\u001b[0m_has_valid_tuple\u001b[0m\u001b[1;33m(\u001b[0m\u001b[0mtup\u001b[0m\u001b[1;33m)\u001b[0m\u001b[1;33m\u001b[0m\u001b[1;33m\u001b[0m\u001b[0m\n\u001b[0m\u001b[0;32m   2093\u001b[0m         \u001b[1;32mtry\u001b[0m\u001b[1;33m:\u001b[0m\u001b[1;33m\u001b[0m\u001b[1;33m\u001b[0m\u001b[0m\n\u001b[0;32m   2094\u001b[0m             \u001b[1;32mreturn\u001b[0m \u001b[0mself\u001b[0m\u001b[1;33m.\u001b[0m\u001b[0m_getitem_lowerdim\u001b[0m\u001b[1;33m(\u001b[0m\u001b[0mtup\u001b[0m\u001b[1;33m)\u001b[0m\u001b[1;33m\u001b[0m\u001b[1;33m\u001b[0m\u001b[0m\n",
      "\u001b[1;32m~\\anaconda3\\lib\\site-packages\\pandas\\core\\indexing.py\u001b[0m in \u001b[0;36m_has_valid_tuple\u001b[1;34m(self, key)\u001b[0m\n\u001b[0;32m    233\u001b[0m                 \u001b[1;32mraise\u001b[0m \u001b[0mIndexingError\u001b[0m\u001b[1;33m(\u001b[0m\u001b[1;34m\"Too many indexers\"\u001b[0m\u001b[1;33m)\u001b[0m\u001b[1;33m\u001b[0m\u001b[1;33m\u001b[0m\u001b[0m\n\u001b[0;32m    234\u001b[0m             \u001b[1;32mtry\u001b[0m\u001b[1;33m:\u001b[0m\u001b[1;33m\u001b[0m\u001b[1;33m\u001b[0m\u001b[0m\n\u001b[1;32m--> 235\u001b[1;33m                 \u001b[0mself\u001b[0m\u001b[1;33m.\u001b[0m\u001b[0m_validate_key\u001b[0m\u001b[1;33m(\u001b[0m\u001b[0mk\u001b[0m\u001b[1;33m,\u001b[0m \u001b[0mi\u001b[0m\u001b[1;33m)\u001b[0m\u001b[1;33m\u001b[0m\u001b[1;33m\u001b[0m\u001b[0m\n\u001b[0m\u001b[0;32m    236\u001b[0m             \u001b[1;32mexcept\u001b[0m \u001b[0mValueError\u001b[0m\u001b[1;33m:\u001b[0m\u001b[1;33m\u001b[0m\u001b[1;33m\u001b[0m\u001b[0m\n\u001b[0;32m    237\u001b[0m                 raise ValueError(\n",
      "\u001b[1;32m~\\anaconda3\\lib\\site-packages\\pandas\\core\\indexing.py\u001b[0m in \u001b[0;36m_validate_key\u001b[1;34m(self, key, axis)\u001b[0m\n\u001b[0;32m   2012\u001b[0m             \u001b[1;32mreturn\u001b[0m\u001b[1;33m\u001b[0m\u001b[1;33m\u001b[0m\u001b[0m\n\u001b[0;32m   2013\u001b[0m         \u001b[1;32melif\u001b[0m \u001b[0mis_integer\u001b[0m\u001b[1;33m(\u001b[0m\u001b[0mkey\u001b[0m\u001b[1;33m)\u001b[0m\u001b[1;33m:\u001b[0m\u001b[1;33m\u001b[0m\u001b[1;33m\u001b[0m\u001b[0m\n\u001b[1;32m-> 2014\u001b[1;33m             \u001b[0mself\u001b[0m\u001b[1;33m.\u001b[0m\u001b[0m_validate_integer\u001b[0m\u001b[1;33m(\u001b[0m\u001b[0mkey\u001b[0m\u001b[1;33m,\u001b[0m \u001b[0maxis\u001b[0m\u001b[1;33m)\u001b[0m\u001b[1;33m\u001b[0m\u001b[1;33m\u001b[0m\u001b[0m\n\u001b[0m\u001b[0;32m   2015\u001b[0m         \u001b[1;32melif\u001b[0m \u001b[0misinstance\u001b[0m\u001b[1;33m(\u001b[0m\u001b[0mkey\u001b[0m\u001b[1;33m,\u001b[0m \u001b[0mtuple\u001b[0m\u001b[1;33m)\u001b[0m\u001b[1;33m:\u001b[0m\u001b[1;33m\u001b[0m\u001b[1;33m\u001b[0m\u001b[0m\n\u001b[0;32m   2016\u001b[0m             \u001b[1;31m# a tuple should already have been caught by this point\u001b[0m\u001b[1;33m\u001b[0m\u001b[1;33m\u001b[0m\u001b[1;33m\u001b[0m\u001b[0m\n",
      "\u001b[1;32m~\\anaconda3\\lib\\site-packages\\pandas\\core\\indexing.py\u001b[0m in \u001b[0;36m_validate_integer\u001b[1;34m(self, key, axis)\u001b[0m\n\u001b[0;32m   2086\u001b[0m         \u001b[0mlen_axis\u001b[0m \u001b[1;33m=\u001b[0m \u001b[0mlen\u001b[0m\u001b[1;33m(\u001b[0m\u001b[0mself\u001b[0m\u001b[1;33m.\u001b[0m\u001b[0mobj\u001b[0m\u001b[1;33m.\u001b[0m\u001b[0m_get_axis\u001b[0m\u001b[1;33m(\u001b[0m\u001b[0maxis\u001b[0m\u001b[1;33m)\u001b[0m\u001b[1;33m)\u001b[0m\u001b[1;33m\u001b[0m\u001b[1;33m\u001b[0m\u001b[0m\n\u001b[0;32m   2087\u001b[0m         \u001b[1;32mif\u001b[0m \u001b[0mkey\u001b[0m \u001b[1;33m>=\u001b[0m \u001b[0mlen_axis\u001b[0m \u001b[1;32mor\u001b[0m \u001b[0mkey\u001b[0m \u001b[1;33m<\u001b[0m \u001b[1;33m-\u001b[0m\u001b[0mlen_axis\u001b[0m\u001b[1;33m:\u001b[0m\u001b[1;33m\u001b[0m\u001b[1;33m\u001b[0m\u001b[0m\n\u001b[1;32m-> 2088\u001b[1;33m             \u001b[1;32mraise\u001b[0m \u001b[0mIndexError\u001b[0m\u001b[1;33m(\u001b[0m\u001b[1;34m\"single positional indexer is out-of-bounds\"\u001b[0m\u001b[1;33m)\u001b[0m\u001b[1;33m\u001b[0m\u001b[1;33m\u001b[0m\u001b[0m\n\u001b[0m\u001b[0;32m   2089\u001b[0m \u001b[1;33m\u001b[0m\u001b[0m\n\u001b[0;32m   2090\u001b[0m     \u001b[1;32mdef\u001b[0m \u001b[0m_getitem_tuple\u001b[0m\u001b[1;33m(\u001b[0m\u001b[0mself\u001b[0m\u001b[1;33m,\u001b[0m \u001b[0mtup\u001b[0m\u001b[1;33m)\u001b[0m\u001b[1;33m:\u001b[0m\u001b[1;33m\u001b[0m\u001b[1;33m\u001b[0m\u001b[0m\n",
      "\u001b[1;31mIndexError\u001b[0m: single positional indexer is out-of-bounds"
     ]
    }
   ],
   "source": [
    "#Insert the address of the spw file\n",
    "#df = pd.read_csv('C:\\\\Users\\\\z5130037\\\\OneDrive - UNSW\\CAVSe.csv', delimiter = ';', names = ['Time','Link','Lane', 'VehNo','VehType', 'Line', 'DesSpeed'], dtype = {'Time' : float, 'Link' : float, 'Lane' : float, 'VehNo' : float, 'VehType' : float,'Line' : float, 'DesSpeed' : float }, skiprows =1)\n",
    "df_0 = pd.read_csv(r'C:\\Users\\hp\\OneDrive - UNSW\\Honours student Sai\\Danial\\Sample_Data\\1hour3x3\\3x3SPW.csv', delimiter = ';', index_col=False)#, names = ['Time','Link','Lane', 'VehNo','VehType', 'Line', 'DesSpeed'], dtype = {'Time' : float , 'Link' : float, 'Lane' : float, 'VehNo' : float, 'VehType' : float,'Line' : float, 'DesSpeed' : float }, skiprows =1, index_col=False)\n",
    "#df\n",
    "df_0 = df_0.iloc[:,3]\n",
    "#df_0"
   ]
  },
  {
   "cell_type": "code",
   "execution_count": 3,
   "metadata": {},
   "outputs": [
    {
     "name": "stderr",
     "output_type": "stream",
     "text": [
      "C:\\Users\\hp\\anaconda3\\lib\\site-packages\\ipykernel_launcher.py:3: FutureWarning: The signature of `Series.to_csv` was aligned to that of `DataFrame.to_csv`, and argument 'header' will change its default value from False to True: please pass an explicit value to suppress this warning.\n",
      "  This is separate from the ipykernel package so we can avoid doing imports until\n"
     ]
    }
   ],
   "source": [
    "names = ['VehicleID']\n",
    "count = df_0.value_counts()\n",
    "countprint = count.to_csv((r\"C:\\Users\\hp\\OneDrive - UNSW\\Honours student Sai\\Danial\\Sample_Data\\1hour3x3\\LaneChange_frequencyTable.csv\"))"
   ]
  },
  {
   "cell_type": "markdown",
   "metadata": {},
   "source": [
    "data = pd.Series([1, 1, 1, 2, 3, 3, 3, 3, 4, 4, 5])\n",
    "\n",
    "#find frequencies of each value\n",
    "data.value_counts()"
   ]
  },
  {
   "cell_type": "code",
   "execution_count": 4,
   "metadata": {},
   "outputs": [
    {
     "name": "stdout",
     "output_type": "stream",
     "text": [
      "83       571\n",
      "15       532\n",
      "14       528\n",
      "79       527\n",
      "46       478\n",
      "        ... \n",
      "10050      1\n",
      "10130      1\n",
      "10159      1\n",
      "10198      1\n",
      "10184      1\n",
      "Name:  Link_No, Length: 213, dtype: int64\n"
     ]
    }
   ],
   "source": [
    "print(count)"
   ]
  },
  {
   "cell_type": "markdown",
   "metadata": {},
   "source": [
    "# LOGIC 2"
   ]
  },
  {
   "cell_type": "code",
   "execution_count": 5,
   "metadata": {},
   "outputs": [
    {
     "name": "stdout",
     "output_type": "stream",
     "text": [
      "19395\n"
     ]
    }
   ],
   "source": [
    "df = pd.read_csv(r'C:\\Users\\hp\\OneDrive - UNSW\\Honours student Sai\\Danial\\Sample_Data\\1hour3x3\\3x3SPW.csv', delimiter = ';', index_col=False)#, names = ['Time','Link','Lane', 'VehNo','VehType', 'Line', 'DesSpeed'], dtype = {'Time' : float , 'Link' : float, 'Lane' : float, 'VehNo' : float, 'VehType' : float,'Line' : float, 'DesSpeed' : float }, skiprows =1, index_col=False)\n",
    "df\n",
    "length = len(df)\n",
    "print(length)"
   ]
  },
  {
   "cell_type": "code",
   "execution_count": 6,
   "metadata": {},
   "outputs": [
    {
     "name": "stdout",
     "output_type": "stream",
     "text": [
      "6\n"
     ]
    }
   ],
   "source": [
    "#Import the link and lane information:\n",
    "df_link = pd.read_csv(r'C:\\Users\\hp\\OneDrive - UNSW\\Honours student Sai\\Danial\\Codes\\Randwick_bus_stop_data.csv', delimiter = ',', index_col=False)\n",
    "#df\n",
    "length_link = len(df_link)\n",
    "print(length_link)"
   ]
  },
  {
   "cell_type": "code",
   "execution_count": 7,
   "metadata": {},
   "outputs": [],
   "source": [
    "def split_data(number1, number2, df): #number 1 and number 2 are the time \n",
    "    df_15 = df.loc[(df['t'] > number1) & (df['t'] <= number2)]\n",
    "    return df_15"
   ]
  },
  {
   "cell_type": "code",
   "execution_count": 8,
   "metadata": {},
   "outputs": [
    {
     "name": "stdout",
     "output_type": "stream",
     "text": [
      "   Link ID  Lane ID  Link_change_number  Link_lane_change_number  \\\n",
      "0      0.0      0.0                 0.0                      0.0   \n",
      "1      0.0      0.0                 0.0                      0.0   \n",
      "2      0.0      0.0                 0.0                      0.0   \n",
      "3      0.0      0.0                 0.0                      0.0   \n",
      "4      0.0      0.0                 0.0                      0.0   \n",
      "5      0.0      0.0                 0.0                      0.0   \n",
      "\n",
      "   Filtered_Link_lane_change_number  \n",
      "0                               0.0  \n",
      "1                               0.0  \n",
      "2                               0.0  \n",
      "3                               0.0  \n",
      "4                               0.0  \n",
      "5                               0.0  \n"
     ]
    }
   ],
   "source": [
    "LaneChangeData = pd.DataFrame(np.zeros((length_link, 5)), columns=['Link ID', 'Lane ID', 'Link_change_number', 'Link_lane_change_number', 'Filtered_Link_lane_change_number']) # creating an empty dataframe \n",
    "print(LaneChangeData)"
   ]
  },
  {
   "cell_type": "code",
   "execution_count": 9,
   "metadata": {},
   "outputs": [],
   "source": [
    "def lanechangefunction(df_link, df, number1, number2):\n",
    "    \n",
    "    LaneChangeData = pd.DataFrame(np.zeros((length_link, 5)), columns=['Link ID', 'Lane ID', 'Link_change_number', 'Link_lane_change_number', 'Filtered_Link_lane_change_number']) # creating an empty dataframe \n",
    "    print(LaneChangeData)\n",
    "    \n",
    "    for p in range (0, length_link):\n",
    "\n",
    "        link_number = df_link.iloc[p,0] #Input the link number here\n",
    "        lane_number = df_link.iloc[p,1] #Input the lane number\n",
    "\n",
    "        LaneChangeData.iloc[p,0] = link_number #saving in new database\n",
    "        LaneChangeData.iloc[p,1] = lane_number #saving in new database\n",
    "        \n",
    "        length = len(df)\n",
    "        c=0\n",
    "        for a in range(0,length):\n",
    "            if df.iloc[a,3]== link_number:\n",
    "                c=c+1\n",
    "                #print(c)\n",
    "\n",
    "        print(\"Verify if this number is matching with the count table for link numnber \" + str(link_number))\n",
    "        print(c)\n",
    "        LaneChangeData.iloc[p,2] = 35\n",
    "\n",
    "        j=0\n",
    "        k=0\n",
    "        #make an empty dataframe\n",
    "        for i in range(0,length):\n",
    "            if df.iloc[i,3] == link_number and df.iloc[i,4] == lane_number:  \n",
    "\n",
    "                if df.iloc[i,1] != df.iloc[(i-1),1]:\n",
    "                    k=k+1\n",
    "\n",
    "                j=j+1\n",
    "\n",
    "        print(\"Total counted lane change timesteps for link numnber \" + str(link_number)+ \" and lane number \" + str(lane_number)+ \" for time \"+str(number1)+\" to \"+str(number2))\n",
    "        print(j)\n",
    "        print(\"Total number of vehicles changing lanes \" + str(link_number)+ \" and lane number \" + str(lane_number)+ \" for time \"+str(number1)+\" to \"+str(number2))\n",
    "        print(k)\n",
    "        LaneChangeData.iloc[p,3] = j\n",
    "        LaneChangeData.iloc[p,4] = k\n",
    "\n",
    "    LaneChangeData.to_csv(r'C:\\Users\\hp\\OneDrive - UNSW\\Honours student Sai\\Danial\\Codes\\LaneChange\\LaneChange'+str(number1)+'-'+str(number2)+'.csv')\n",
    "\n",
    "        "
   ]
  },
  {
   "cell_type": "code",
   "execution_count": 10,
   "metadata": {},
   "outputs": [
    {
     "name": "stdout",
     "output_type": "stream",
     "text": [
      "   Link ID  Lane ID  Link_change_number  Link_lane_change_number  \\\n",
      "0      0.0      0.0                 0.0                      0.0   \n",
      "1      0.0      0.0                 0.0                      0.0   \n",
      "2      0.0      0.0                 0.0                      0.0   \n",
      "3      0.0      0.0                 0.0                      0.0   \n",
      "4      0.0      0.0                 0.0                      0.0   \n",
      "5      0.0      0.0                 0.0                      0.0   \n",
      "\n",
      "   Filtered_Link_lane_change_number  \n",
      "0                               0.0  \n",
      "1                               0.0  \n",
      "2                               0.0  \n",
      "3                               0.0  \n",
      "4                               0.0  \n",
      "5                               0.0  \n",
      "   Link ID  Lane ID  Link_change_number  Link_lane_change_number  \\\n",
      "0      0.0      0.0                 0.0                      0.0   \n",
      "1      0.0      0.0                 0.0                      0.0   \n",
      "2      0.0      0.0                 0.0                      0.0   \n",
      "3      0.0      0.0                 0.0                      0.0   \n",
      "4      0.0      0.0                 0.0                      0.0   \n",
      "5      0.0      0.0                 0.0                      0.0   \n",
      "\n",
      "   Filtered_Link_lane_change_number  \n",
      "0                               0.0  \n",
      "1                               0.0  \n",
      "2                               0.0  \n",
      "3                               0.0  \n",
      "4                               0.0  \n",
      "5                               0.0  \n",
      "Verify if this number is matching with the count table for link numnber 134\n",
      "381\n",
      "Total counted lane change timesteps for link numnber 134 and lane number 2 for time 0 to 4500\n",
      "308\n",
      "Total number of vehicles changing lanes 134 and lane number 2 for time 0 to 4500\n",
      "308\n",
      "Verify if this number is matching with the count table for link numnber 166\n",
      "337\n",
      "Total counted lane change timesteps for link numnber 166 and lane number 2 for time 0 to 4500\n",
      "296\n",
      "Total number of vehicles changing lanes 166 and lane number 2 for time 0 to 4500\n",
      "296\n",
      "Verify if this number is matching with the count table for link numnber 142\n",
      "437\n",
      "Total counted lane change timesteps for link numnber 142 and lane number 2 for time 0 to 4500\n",
      "345\n",
      "Total number of vehicles changing lanes 142 and lane number 2 for time 0 to 4500\n",
      "345\n",
      "Verify if this number is matching with the count table for link numnber 10200\n",
      "180\n",
      "Total counted lane change timesteps for link numnber 10200 and lane number 2 for time 0 to 4500\n",
      "118\n",
      "Total number of vehicles changing lanes 10200 and lane number 2 for time 0 to 4500\n",
      "118\n",
      "Verify if this number is matching with the count table for link numnber 14\n",
      "528\n",
      "Total counted lane change timesteps for link numnber 14 and lane number 2 for time 0 to 4500\n",
      "435\n",
      "Total number of vehicles changing lanes 14 and lane number 2 for time 0 to 4500\n",
      "435\n",
      "Verify if this number is matching with the count table for link numnber 46\n",
      "478\n",
      "Total counted lane change timesteps for link numnber 46 and lane number 2 for time 0 to 4500\n",
      "396\n",
      "Total number of vehicles changing lanes 46 and lane number 2 for time 0 to 4500\n",
      "396\n"
     ]
    }
   ],
   "source": [
    "LaneChangeData = pd.DataFrame(np.zeros((length_link, 5)), columns=['Link ID', 'Lane ID', 'Link_change_number', 'Link_lane_change_number', 'Filtered_Link_lane_change_number']) # creating an empty dataframe \n",
    "print(LaneChangeData)\n",
    "    \n",
    "lanechangefunction(df_link, df,0, 4500)"
   ]
  },
  {
   "cell_type": "markdown",
   "metadata": {},
   "source": [
    "# Time breaking starts from here"
   ]
  },
  {
   "cell_type": "markdown",
   "metadata": {},
   "source": [
    "#GIVE THE ADDRESS OF THE LINK AND LANE INFORMATION: YO HAVE ALREADY IMPORTED \"df_link\" file. This file will remain unchanged for all the function argument"
   ]
  },
  {
   "cell_type": "code",
   "execution_count": 11,
   "metadata": {},
   "outputs": [
    {
     "name": "stdout",
     "output_type": "stream",
     "text": [
      "   Link ID  Lane ID  Link_change_number  Link_lane_change_number  \\\n",
      "0      0.0      0.0                 0.0                      0.0   \n",
      "1      0.0      0.0                 0.0                      0.0   \n",
      "2      0.0      0.0                 0.0                      0.0   \n",
      "3      0.0      0.0                 0.0                      0.0   \n",
      "4      0.0      0.0                 0.0                      0.0   \n",
      "5      0.0      0.0                 0.0                      0.0   \n",
      "\n",
      "   Filtered_Link_lane_change_number  \n",
      "0                               0.0  \n",
      "1                               0.0  \n",
      "2                               0.0  \n",
      "3                               0.0  \n",
      "4                               0.0  \n",
      "5                               0.0  \n",
      "Verify if this number is matching with the count table for link numnber 134\n",
      "93\n",
      "Total counted lane change timesteps for link numnber 134 and lane number 2 for time 0 to 1800\n",
      "77\n",
      "Total number of vehicles changing lanes 134 and lane number 2 for time 0 to 1800\n",
      "77\n",
      "Verify if this number is matching with the count table for link numnber 166\n",
      "93\n",
      "Total counted lane change timesteps for link numnber 166 and lane number 2 for time 0 to 1800\n",
      "83\n",
      "Total number of vehicles changing lanes 166 and lane number 2 for time 0 to 1800\n",
      "83\n",
      "Verify if this number is matching with the count table for link numnber 142\n",
      "114\n",
      "Total counted lane change timesteps for link numnber 142 and lane number 2 for time 0 to 1800\n",
      "92\n",
      "Total number of vehicles changing lanes 142 and lane number 2 for time 0 to 1800\n",
      "92\n",
      "Verify if this number is matching with the count table for link numnber 10200\n",
      "40\n",
      "Total counted lane change timesteps for link numnber 10200 and lane number 2 for time 0 to 1800\n",
      "27\n",
      "Total number of vehicles changing lanes 10200 and lane number 2 for time 0 to 1800\n",
      "27\n",
      "Verify if this number is matching with the count table for link numnber 14\n",
      "118\n",
      "Total counted lane change timesteps for link numnber 14 and lane number 2 for time 0 to 1800\n",
      "101\n",
      "Total number of vehicles changing lanes 14 and lane number 2 for time 0 to 1800\n",
      "101\n",
      "Verify if this number is matching with the count table for link numnber 46\n",
      "116\n",
      "Total counted lane change timesteps for link numnber 46 and lane number 2 for time 0 to 1800\n",
      "92\n",
      "Total number of vehicles changing lanes 46 and lane number 2 for time 0 to 1800\n",
      "92\n"
     ]
    }
   ],
   "source": [
    "#All you have to do is change the number 1 and number 2\n",
    "number1 = 0 #GIVE THE TIME INTERVAL\n",
    "number2 = 1800\n",
    "df1 = split_data(number1, number2, df)\n",
    "df1\n",
    "lanechangefunction(df_link, df1, number1, number2)"
   ]
  },
  {
   "cell_type": "code",
   "execution_count": 12,
   "metadata": {},
   "outputs": [
    {
     "name": "stdout",
     "output_type": "stream",
     "text": [
      "   Link ID  Lane ID  Link_change_number  Link_lane_change_number  \\\n",
      "0      0.0      0.0                 0.0                      0.0   \n",
      "1      0.0      0.0                 0.0                      0.0   \n",
      "2      0.0      0.0                 0.0                      0.0   \n",
      "3      0.0      0.0                 0.0                      0.0   \n",
      "4      0.0      0.0                 0.0                      0.0   \n",
      "5      0.0      0.0                 0.0                      0.0   \n",
      "\n",
      "   Filtered_Link_lane_change_number  \n",
      "0                               0.0  \n",
      "1                               0.0  \n",
      "2                               0.0  \n",
      "3                               0.0  \n",
      "4                               0.0  \n",
      "5                               0.0  \n",
      "Verify if this number is matching with the count table for link numnber 134\n",
      "101\n",
      "Total counted lane change timesteps for link numnber 134 and lane number 2 for time 1800 to 2700\n",
      "78\n",
      "Total number of vehicles changing lanes 134 and lane number 2 for time 1800 to 2700\n",
      "78\n",
      "Verify if this number is matching with the count table for link numnber 166\n",
      "66\n",
      "Total counted lane change timesteps for link numnber 166 and lane number 2 for time 1800 to 2700\n",
      "55\n",
      "Total number of vehicles changing lanes 166 and lane number 2 for time 1800 to 2700\n",
      "55\n",
      "Verify if this number is matching with the count table for link numnber 142\n",
      "84\n",
      "Total counted lane change timesteps for link numnber 142 and lane number 2 for time 1800 to 2700\n",
      "63\n",
      "Total number of vehicles changing lanes 142 and lane number 2 for time 1800 to 2700\n",
      "63\n",
      "Verify if this number is matching with the count table for link numnber 10200\n",
      "57\n",
      "Total counted lane change timesteps for link numnber 10200 and lane number 2 for time 1800 to 2700\n",
      "33\n",
      "Total number of vehicles changing lanes 10200 and lane number 2 for time 1800 to 2700\n",
      "33\n",
      "Verify if this number is matching with the count table for link numnber 14\n",
      "135\n",
      "Total counted lane change timesteps for link numnber 14 and lane number 2 for time 1800 to 2700\n",
      "108\n",
      "Total number of vehicles changing lanes 14 and lane number 2 for time 1800 to 2700\n",
      "108\n",
      "Verify if this number is matching with the count table for link numnber 46\n",
      "140\n",
      "Total counted lane change timesteps for link numnber 46 and lane number 2 for time 1800 to 2700\n",
      "118\n",
      "Total number of vehicles changing lanes 46 and lane number 2 for time 1800 to 2700\n",
      "118\n"
     ]
    }
   ],
   "source": [
    "#All you have to do is change the number 1 and number 2\n",
    "number1 = 1800 #GIVE THE TIME INTERVAL\n",
    "number2 = 2700\n",
    "df2 = split_data(number1, number2, df)\n",
    "df2\n",
    "lanechangefunction(df_link, df2, number1, number2)"
   ]
  },
  {
   "cell_type": "code",
   "execution_count": 13,
   "metadata": {},
   "outputs": [
    {
     "name": "stdout",
     "output_type": "stream",
     "text": [
      "   Link ID  Lane ID  Link_change_number  Link_lane_change_number  \\\n",
      "0      0.0      0.0                 0.0                      0.0   \n",
      "1      0.0      0.0                 0.0                      0.0   \n",
      "2      0.0      0.0                 0.0                      0.0   \n",
      "3      0.0      0.0                 0.0                      0.0   \n",
      "4      0.0      0.0                 0.0                      0.0   \n",
      "5      0.0      0.0                 0.0                      0.0   \n",
      "\n",
      "   Filtered_Link_lane_change_number  \n",
      "0                               0.0  \n",
      "1                               0.0  \n",
      "2                               0.0  \n",
      "3                               0.0  \n",
      "4                               0.0  \n",
      "5                               0.0  \n",
      "Verify if this number is matching with the count table for link numnber 134\n",
      "94\n",
      "Total counted lane change timesteps for link numnber 134 and lane number 2 for time 2700 to 3600\n",
      "80\n",
      "Total number of vehicles changing lanes 134 and lane number 2 for time 2700 to 3600\n",
      "80\n",
      "Verify if this number is matching with the count table for link numnber 166\n",
      "85\n",
      "Total counted lane change timesteps for link numnber 166 and lane number 2 for time 2700 to 3600\n",
      "77\n",
      "Total number of vehicles changing lanes 166 and lane number 2 for time 2700 to 3600\n",
      "77\n",
      "Verify if this number is matching with the count table for link numnber 142\n",
      "95\n",
      "Total counted lane change timesteps for link numnber 142 and lane number 2 for time 2700 to 3600\n",
      "72\n",
      "Total number of vehicles changing lanes 142 and lane number 2 for time 2700 to 3600\n",
      "72\n",
      "Verify if this number is matching with the count table for link numnber 10200\n",
      "39\n",
      "Total counted lane change timesteps for link numnber 10200 and lane number 2 for time 2700 to 3600\n",
      "30\n",
      "Total number of vehicles changing lanes 10200 and lane number 2 for time 2700 to 3600\n",
      "30\n",
      "Verify if this number is matching with the count table for link numnber 14\n",
      "130\n",
      "Total counted lane change timesteps for link numnber 14 and lane number 2 for time 2700 to 3600\n",
      "106\n",
      "Total number of vehicles changing lanes 14 and lane number 2 for time 2700 to 3600\n",
      "106\n",
      "Verify if this number is matching with the count table for link numnber 46\n",
      "112\n",
      "Total counted lane change timesteps for link numnber 46 and lane number 2 for time 2700 to 3600\n",
      "95\n",
      "Total number of vehicles changing lanes 46 and lane number 2 for time 2700 to 3600\n",
      "95\n"
     ]
    }
   ],
   "source": [
    "#All you have to do is change the number 1 and number 2\n",
    "number1 = 2700 #GIVE THE TIME INTERVAL\n",
    "number2 = 3600\n",
    "df3 = split_data(number1, number2, df)\n",
    "df3\n",
    "lanechangefunction(df_link, df3, number1, number2)"
   ]
  },
  {
   "cell_type": "code",
   "execution_count": 14,
   "metadata": {},
   "outputs": [
    {
     "name": "stdout",
     "output_type": "stream",
     "text": [
      "   Link ID  Lane ID  Link_change_number  Link_lane_change_number  \\\n",
      "0      0.0      0.0                 0.0                      0.0   \n",
      "1      0.0      0.0                 0.0                      0.0   \n",
      "2      0.0      0.0                 0.0                      0.0   \n",
      "3      0.0      0.0                 0.0                      0.0   \n",
      "4      0.0      0.0                 0.0                      0.0   \n",
      "5      0.0      0.0                 0.0                      0.0   \n",
      "\n",
      "   Filtered_Link_lane_change_number  \n",
      "0                               0.0  \n",
      "1                               0.0  \n",
      "2                               0.0  \n",
      "3                               0.0  \n",
      "4                               0.0  \n",
      "5                               0.0  \n",
      "Verify if this number is matching with the count table for link numnber 134\n",
      "93\n",
      "Total counted lane change timesteps for link numnber 134 and lane number 2 for time 3600 to 4500\n",
      "73\n",
      "Total number of vehicles changing lanes 134 and lane number 2 for time 3600 to 4500\n",
      "73\n",
      "Verify if this number is matching with the count table for link numnber 166\n",
      "93\n",
      "Total counted lane change timesteps for link numnber 166 and lane number 2 for time 3600 to 4500\n",
      "81\n",
      "Total number of vehicles changing lanes 166 and lane number 2 for time 3600 to 4500\n",
      "81\n",
      "Verify if this number is matching with the count table for link numnber 142\n",
      "144\n",
      "Total counted lane change timesteps for link numnber 142 and lane number 2 for time 3600 to 4500\n",
      "118\n",
      "Total number of vehicles changing lanes 142 and lane number 2 for time 3600 to 4500\n",
      "118\n",
      "Verify if this number is matching with the count table for link numnber 10200\n",
      "44\n",
      "Total counted lane change timesteps for link numnber 10200 and lane number 2 for time 3600 to 4500\n",
      "28\n",
      "Total number of vehicles changing lanes 10200 and lane number 2 for time 3600 to 4500\n",
      "28\n",
      "Verify if this number is matching with the count table for link numnber 14\n",
      "145\n",
      "Total counted lane change timesteps for link numnber 14 and lane number 2 for time 3600 to 4500\n",
      "120\n",
      "Total number of vehicles changing lanes 14 and lane number 2 for time 3600 to 4500\n",
      "120\n",
      "Verify if this number is matching with the count table for link numnber 46\n",
      "110\n",
      "Total counted lane change timesteps for link numnber 46 and lane number 2 for time 3600 to 4500\n",
      "91\n",
      "Total number of vehicles changing lanes 46 and lane number 2 for time 3600 to 4500\n",
      "91\n"
     ]
    }
   ],
   "source": [
    "#All you have to do is change the number 1 and number 2\n",
    "number1 = 3600 #GIVE THE TIME INTERVAL\n",
    "number2 = 4500\n",
    "df4 = split_data(number1, number2, df)\n",
    "df4\n",
    "lanechangefunction(df_link, df4, number1, number2)"
   ]
  },
  {
   "cell_type": "code",
   "execution_count": null,
   "metadata": {},
   "outputs": [],
   "source": []
  },
  {
   "cell_type": "code",
   "execution_count": null,
   "metadata": {},
   "outputs": [],
   "source": []
  }
 ],
 "metadata": {
  "kernelspec": {
   "display_name": "Python 3",
   "language": "python",
   "name": "python3"
  },
  "language_info": {
   "codemirror_mode": {
    "name": "ipython",
    "version": 3
   },
   "file_extension": ".py",
   "mimetype": "text/x-python",
   "name": "python",
   "nbconvert_exporter": "python",
   "pygments_lexer": "ipython3",
   "version": "3.7.6"
  }
 },
 "nbformat": 4,
 "nbformat_minor": 2
}
