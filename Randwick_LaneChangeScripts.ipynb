{
 "cells": [
  {
   "cell_type": "code",
   "execution_count": 20,
   "metadata": {},
   "outputs": [],
   "source": [
    "import pandas as pd\n",
    "import numpy as np"
   ]
  },
  {
   "cell_type": "code",
   "execution_count": 21,
   "metadata": {},
   "outputs": [],
   "source": [
    "#Insert the address of the spw file\n",
    "#df = pd.read_csv('C:\\\\Users\\\\z5130037\\\\OneDrive - UNSW\\CAVSe.csv', delimiter = ';', names = ['Time','Link','Lane', 'VehNo','VehType', 'Line', 'DesSpeed'], dtype = {'Time' : float, 'Link' : float, 'Lane' : float, 'VehNo' : float, 'VehType' : float,'Line' : float, 'DesSpeed' : float }, skiprows =1)\n",
    "#df_0 = pd.read_csv(r'C:\\Users\\z5130037\\OneDrive - UNSW\\Honours student Sai\\Danial\\Sample_Data\\1hour3x3\\3x3SPW.csv', delimiter = ';', index_col=False)#, names = ['Time','Link','Lane', 'VehNo','VehType', 'Line', 'DesSpeed'], dtype = {'Time' : float , 'Link' : float, 'Lane' : float, 'VehNo' : float, 'VehType' : float,'Line' : float, 'DesSpeed' : float }, skiprows =1, index_col=False)\n",
    "df_0 = pd.read_csv(r'C:\\Users\\hp\\OneDrive - UNSW\\Honours student Sai\\Danial\\Sample_Data\\1hour3x3\\3x3SPW.csv', delimiter = ';', index_col=False)#, names = ['Time','Link','Lane', 'VehNo','VehType', 'Line', 'DesSpeed'], dtype = {'Time' : float , 'Link' : float, 'Lane' : float, 'VehNo' : float, 'VehType' : float,'Line' : float, 'DesSpeed' : float }, skiprows =1, index_col=False)\n",
    "\n",
    "#df\n",
    "df_0 = df_0.iloc[:,3]\n",
    "#df"
   ]
  },
  {
   "cell_type": "code",
   "execution_count": 22,
   "metadata": {},
   "outputs": [
    {
     "name": "stderr",
     "output_type": "stream",
     "text": [
      "C:\\Users\\hp\\anaconda3\\lib\\site-packages\\ipykernel_launcher.py:4: FutureWarning: The signature of `Series.to_csv` was aligned to that of `DataFrame.to_csv`, and argument 'header' will change its default value from False to True: please pass an explicit value to suppress this warning.\n",
      "  after removing the cwd from sys.path.\n"
     ]
    }
   ],
   "source": [
    "names = ['VehicleID']\n",
    "count = df_0.value_counts()\n",
    "#countprint = count.to_csv((r\"C:\\Users\\z5130037\\OneDrive - UNSW\\Honours student Sai\\Danial\\Sample_Data\\1hour3x3\\LaneChange_frequencyTable.csv\"))\n",
    "countprint = count.to_csv((r\"C:\\Users\\hp\\OneDrive - UNSW\\Honours student Sai\\Danial\\Sample_Data\\1hour3x3\\LaneChange_frequencyTable.csv\"))"
   ]
  },
  {
   "cell_type": "markdown",
   "metadata": {},
   "source": [
    "data = pd.Series([1, 1, 1, 2, 3, 3, 3, 3, 4, 4, 5])\n",
    "\n",
    "#find frequencies of each value\n",
    "data.value_counts()"
   ]
  },
  {
   "cell_type": "code",
   "execution_count": 23,
   "metadata": {},
   "outputs": [
    {
     "name": "stdout",
     "output_type": "stream",
     "text": [
      "83       571\n",
      "15       532\n",
      "14       528\n",
      "79       527\n",
      "46       478\n",
      "        ... \n",
      "10050      1\n",
      "10130      1\n",
      "10159      1\n",
      "10198      1\n",
      "10184      1\n",
      "Name:  Link_No, Length: 213, dtype: int64\n"
     ]
    }
   ],
   "source": [
    "print(count)"
   ]
  },
  {
   "cell_type": "markdown",
   "metadata": {},
   "source": [
    "# LOGIC 2"
   ]
  },
  {
   "cell_type": "markdown",
   "metadata": {},
   "source": [
    "def split_data(number1, number2, df): #number 1 and number 2 are the time \n",
    "    df_15 = df.loc[(df['t'] > number1) & (df['t'] <= number2)]\n",
    "    return df_15"
   ]
  },
  {
   "cell_type": "code",
   "execution_count": 25,
   "metadata": {},
   "outputs": [
    {
     "name": "stdout",
     "output_type": "stream",
     "text": [
      "19395\n"
     ]
    }
   ],
   "source": [
    "#df = pd.read_csv(r'C:\\Users\\z5130037\\OneDrive - UNSW\\Honours student Sai\\Danial\\Sample_Data\\1hour3x3\\3x3SPW.csv', delimiter = ';', index_col=False)#, names = ['Time','Link','Lane', 'VehNo','VehType', 'Line', 'DesSpeed'], dtype = {'Time' : float , 'Link' : float, 'Lane' : float, 'VehNo' : float, 'VehType' : float,'Line' : float, 'DesSpeed' : float }, skiprows =1, index_col=False)\n",
    "df = pd.read_csv(r'C:\\Users\\hp\\OneDrive - UNSW\\Honours student Sai\\Danial\\Sample_Data\\1hour3x3\\3x3SPW.csv', delimiter = ';', index_col=False)#, names = ['Time','Link','Lane', 'VehNo','VehType', 'Line', 'DesSpeed'], dtype = {'Time' : float , 'Link' : float, 'Lane' : float, 'VehNo' : float, 'VehType' : float,'Line' : float, 'DesSpeed' : float }, skiprows =1, index_col=False)\n",
    "\n",
    "df\n",
    "length = len(df)\n",
    "print(length)"
   ]
  },
  {
   "cell_type": "markdown",
   "metadata": {},
   "source": [
    "df = split_data(1800,2700, df)\n",
    "length = len(df)\n",
    "print(length)"
   ]
  },
  {
   "cell_type": "code",
   "execution_count": 27,
   "metadata": {},
   "outputs": [
    {
     "name": "stdout",
     "output_type": "stream",
     "text": [
      "6\n"
     ]
    }
   ],
   "source": [
    "#Import the link and lane information:\n",
    "#df_link = pd.read_csv(r'C:\\Users\\z5130037\\OneDrive - UNSW\\Honours student Sai\\Danial\\Codes\\Randwick_bus_stop_data.csv', delimiter = ',', index_col=False)\n",
    "df_link = pd.read_csv(r'C:\\Users\\hp\\OneDrive - UNSW\\Honours student Sai\\Danial\\Codes\\Randwick_bus_stop_data.csv', delimiter = ',', index_col=False)\n",
    "\n",
    "#df\n",
    "length_link = len(df_link)\n",
    "print(length_link)"
   ]
  },
  {
   "cell_type": "code",
   "execution_count": 28,
   "metadata": {},
   "outputs": [
    {
     "name": "stdout",
     "output_type": "stream",
     "text": [
      "   Link ID  Lane ID  Link_change_number  Link_lane_change_number  \\\n",
      "0      0.0      0.0                 0.0                      0.0   \n",
      "1      0.0      0.0                 0.0                      0.0   \n",
      "2      0.0      0.0                 0.0                      0.0   \n",
      "3      0.0      0.0                 0.0                      0.0   \n",
      "4      0.0      0.0                 0.0                      0.0   \n",
      "5      0.0      0.0                 0.0                      0.0   \n",
      "\n",
      "   Filtered_Link_lane_change_number  \n",
      "0                               0.0  \n",
      "1                               0.0  \n",
      "2                               0.0  \n",
      "3                               0.0  \n",
      "4                               0.0  \n",
      "5                               0.0  \n"
     ]
    }
   ],
   "source": [
    "LaneChangeData = pd.DataFrame(np.zeros((length_link, 5)), columns=['Link ID', 'Lane ID', 'Link_change_number', 'Link_lane_change_number', 'Filtered_Link_lane_change_number']) # creating an empty dataframe \n",
    "print(LaneChangeData)"
   ]
  },
  {
   "cell_type": "code",
   "execution_count": 29,
   "metadata": {},
   "outputs": [
    {
     "name": "stdout",
     "output_type": "stream",
     "text": [
      "Verify if this number is matching with the count table for link numnber 134\n",
      "101\n",
      "Total counted lane change timesteps for link numnber 134and lane number 2\n",
      "78\n",
      "Total number of vehicles changing lanes 134and lane number 2\n",
      "78\n",
      "Verify if this number is matching with the count table for link numnber 166\n",
      "66\n",
      "Total counted lane change timesteps for link numnber 166and lane number 2\n",
      "55\n",
      "Total number of vehicles changing lanes 166and lane number 2\n",
      "55\n",
      "Verify if this number is matching with the count table for link numnber 142\n",
      "84\n",
      "Total counted lane change timesteps for link numnber 142and lane number 2\n",
      "63\n",
      "Total number of vehicles changing lanes 142and lane number 2\n",
      "63\n",
      "Verify if this number is matching with the count table for link numnber 10200\n",
      "57\n",
      "Total counted lane change timesteps for link numnber 10200and lane number 2\n",
      "33\n",
      "Total number of vehicles changing lanes 10200and lane number 2\n",
      "33\n",
      "Verify if this number is matching with the count table for link numnber 14\n",
      "135\n",
      "Total counted lane change timesteps for link numnber 14and lane number 2\n",
      "108\n",
      "Total number of vehicles changing lanes 14and lane number 2\n",
      "108\n",
      "Verify if this number is matching with the count table for link numnber 46\n",
      "140\n",
      "Total counted lane change timesteps for link numnber 46and lane number 2\n",
      "118\n",
      "Total number of vehicles changing lanes 46and lane number 2\n",
      "118\n"
     ]
    }
   ],
   "source": [
    "\n",
    "for p in range (0, length_link):\n",
    "\n",
    "    link_number = df_link.iloc[p,0] #Input the link number here\n",
    "    lane_number = df_link.iloc[p,1] #Input the lane number\n",
    "    \n",
    "    LaneChangeData.iloc[p,0] = link_number #saving in new database\n",
    "    LaneChangeData.iloc[p,1] = lane_number #saving in new database\n",
    "    \n",
    "    c=0\n",
    "    for a in range(0,length):\n",
    "        if df.iloc[a,3]== link_number:\n",
    "            c=c+1\n",
    "            #print(c)\n",
    "\n",
    "    print(\"Verify if this number is matching with the count table for link numnber \" + str(link_number))\n",
    "    print(c)\n",
    "    LaneChangeData.iloc[p,2] = 35\n",
    "\n",
    "    j=0\n",
    "    k=0\n",
    "    #make an empty dataframe\n",
    "    for i in range(0,length):\n",
    "        if df.iloc[i,3] == link_number and df.iloc[i,4] == lane_number:  \n",
    "\n",
    "            if df.iloc[i,1] != df.iloc[(i-1),1]:\n",
    "                k=k+1\n",
    "\n",
    "            j=j+1\n",
    "\n",
    "    print(\"Total counted lane change timesteps for link numnber \" + str(link_number)+ \"and lane number \" + str(lane_number))\n",
    "    print(j)\n",
    "    print(\"Total number of vehicles changing lanes \" + str(link_number)+ \"and lane number \" + str(lane_number))\n",
    "    print(k)\n",
    "    LaneChangeData.iloc[p,3] = j\n",
    "    LaneChangeData.iloc[p,4] = k\n",
    "    \n",
    "#LaneChangeData.to_csv(r'C:\\Users\\z5130037\\OneDrive - UNSW\\Honours student Sai\\Danial\\Codes\\LaneChangeData1800.csv')\n",
    "LaneChangeData.to_csv(r'C:\\Users\\hp\\OneDrive - UNSW\\Honours student Sai\\Danial\\Codes\\LaneChangeData.csv')\n",
    "        "
   ]
  },
  {
   "cell_type": "code",
   "execution_count": null,
   "metadata": {},
   "outputs": [],
   "source": []
  },
  {
   "cell_type": "code",
   "execution_count": null,
   "metadata": {},
   "outputs": [],
   "source": []
  }
 ],
 "metadata": {
  "kernelspec": {
   "display_name": "Python 3",
   "language": "python",
   "name": "python3"
  },
  "language_info": {
   "codemirror_mode": {
    "name": "ipython",
    "version": 3
   },
   "file_extension": ".py",
   "mimetype": "text/x-python",
   "name": "python",
   "nbconvert_exporter": "python",
   "pygments_lexer": "ipython3",
   "version": "3.7.6"
  }
 },
 "nbformat": 4,
 "nbformat_minor": 2
}
