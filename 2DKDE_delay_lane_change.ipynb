{
 "cells": [
  {
   "cell_type": "code",
   "execution_count": 1,
   "metadata": {},
   "outputs": [],
   "source": [
    "import pandas as pd\n",
    "import numpy as np\n",
    "import matplotlib.pyplot as plt\n",
    "from mpl_toolkits.mplot3d import Axes3D\n",
    "import matplotlib as mpl\n",
    "import seaborn as sns\n",
    "%matplotlib inline"
   ]
  },
  {
   "cell_type": "code",
   "execution_count": 21,
   "metadata": {},
   "outputs": [
    {
     "data": {
      "text/html": [
       "<div>\n",
       "<style scoped>\n",
       "    .dataframe tbody tr th:only-of-type {\n",
       "        vertical-align: middle;\n",
       "    }\n",
       "\n",
       "    .dataframe tbody tr th {\n",
       "        vertical-align: top;\n",
       "    }\n",
       "\n",
       "    .dataframe thead th {\n",
       "        text-align: right;\n",
       "    }\n",
       "</style>\n",
       "<table border=\"1\" class=\"dataframe\">\n",
       "  <thead>\n",
       "    <tr style=\"text-align: right;\">\n",
       "      <th></th>\n",
       "      <th>Penetration</th>\n",
       "      <th>Time</th>\n",
       "      <th>Lane_Change</th>\n",
       "      <th>Dwell_Time</th>\n",
       "    </tr>\n",
       "  </thead>\n",
       "  <tbody>\n",
       "    <tr>\n",
       "      <th>0</th>\n",
       "      <td>0.0</td>\n",
       "      <td>1800.0</td>\n",
       "      <td>19.922608</td>\n",
       "      <td>7.182969</td>\n",
       "    </tr>\n",
       "    <tr>\n",
       "      <th>1</th>\n",
       "      <td>0.0</td>\n",
       "      <td>2700.0</td>\n",
       "      <td>0.761928</td>\n",
       "      <td>4.370458</td>\n",
       "    </tr>\n",
       "    <tr>\n",
       "      <th>2</th>\n",
       "      <td>0.0</td>\n",
       "      <td>3600.0</td>\n",
       "      <td>43.849896</td>\n",
       "      <td>3.682951</td>\n",
       "    </tr>\n",
       "    <tr>\n",
       "      <th>3</th>\n",
       "      <td>0.0</td>\n",
       "      <td>4500.0</td>\n",
       "      <td>20.973298</td>\n",
       "      <td>6.868386</td>\n",
       "    </tr>\n",
       "    <tr>\n",
       "      <th>4</th>\n",
       "      <td>10.0</td>\n",
       "      <td>1800.0</td>\n",
       "      <td>39.497624</td>\n",
       "      <td>3.719330</td>\n",
       "    </tr>\n",
       "    <tr>\n",
       "      <th>5</th>\n",
       "      <td>10.0</td>\n",
       "      <td>2700.0</td>\n",
       "      <td>39.477320</td>\n",
       "      <td>5.853188</td>\n",
       "    </tr>\n",
       "    <tr>\n",
       "      <th>6</th>\n",
       "      <td>10.0</td>\n",
       "      <td>3600.0</td>\n",
       "      <td>44.556275</td>\n",
       "      <td>3.658737</td>\n",
       "    </tr>\n",
       "    <tr>\n",
       "      <th>7</th>\n",
       "      <td>10.0</td>\n",
       "      <td>4500.0</td>\n",
       "      <td>13.002237</td>\n",
       "      <td>6.093221</td>\n",
       "    </tr>\n",
       "    <tr>\n",
       "      <th>8</th>\n",
       "      <td>30.0</td>\n",
       "      <td>1800.0</td>\n",
       "      <td>43.873978</td>\n",
       "      <td>6.230345</td>\n",
       "    </tr>\n",
       "    <tr>\n",
       "      <th>9</th>\n",
       "      <td>30.0</td>\n",
       "      <td>2700.0</td>\n",
       "      <td>17.470717</td>\n",
       "      <td>3.061708</td>\n",
       "    </tr>\n",
       "    <tr>\n",
       "      <th>10</th>\n",
       "      <td>30.0</td>\n",
       "      <td>3600.0</td>\n",
       "      <td>3.347172</td>\n",
       "      <td>4.244557</td>\n",
       "    </tr>\n",
       "    <tr>\n",
       "      <th>11</th>\n",
       "      <td>30.0</td>\n",
       "      <td>4500.0</td>\n",
       "      <td>39.077985</td>\n",
       "      <td>3.993065</td>\n",
       "    </tr>\n",
       "    <tr>\n",
       "      <th>12</th>\n",
       "      <td>50.0</td>\n",
       "      <td>1800.0</td>\n",
       "      <td>4.004143</td>\n",
       "      <td>4.979567</td>\n",
       "    </tr>\n",
       "    <tr>\n",
       "      <th>13</th>\n",
       "      <td>50.0</td>\n",
       "      <td>2700.0</td>\n",
       "      <td>10.451540</td>\n",
       "      <td>4.095994</td>\n",
       "    </tr>\n",
       "    <tr>\n",
       "      <th>14</th>\n",
       "      <td>50.0</td>\n",
       "      <td>3600.0</td>\n",
       "      <td>3.153085</td>\n",
       "      <td>6.507773</td>\n",
       "    </tr>\n",
       "    <tr>\n",
       "      <th>15</th>\n",
       "      <td>50.0</td>\n",
       "      <td>4500.0</td>\n",
       "      <td>9.702720</td>\n",
       "      <td>3.305125</td>\n",
       "    </tr>\n",
       "    <tr>\n",
       "      <th>16</th>\n",
       "      <td>70.0</td>\n",
       "      <td>1800.0</td>\n",
       "      <td>19.847671</td>\n",
       "      <td>3.450534</td>\n",
       "    </tr>\n",
       "    <tr>\n",
       "      <th>17</th>\n",
       "      <td>70.0</td>\n",
       "      <td>2700.0</td>\n",
       "      <td>41.910588</td>\n",
       "      <td>5.184573</td>\n",
       "    </tr>\n",
       "    <tr>\n",
       "      <th>18</th>\n",
       "      <td>70.0</td>\n",
       "      <td>3600.0</td>\n",
       "      <td>42.696947</td>\n",
       "      <td>7.436123</td>\n",
       "    </tr>\n",
       "    <tr>\n",
       "      <th>19</th>\n",
       "      <td>70.0</td>\n",
       "      <td>4500.0</td>\n",
       "      <td>1.683064</td>\n",
       "      <td>4.704682</td>\n",
       "    </tr>\n",
       "    <tr>\n",
       "      <th>20</th>\n",
       "      <td>90.0</td>\n",
       "      <td>1800.0</td>\n",
       "      <td>10.971661</td>\n",
       "      <td>3.230981</td>\n",
       "    </tr>\n",
       "    <tr>\n",
       "      <th>21</th>\n",
       "      <td>90.0</td>\n",
       "      <td>2700.0</td>\n",
       "      <td>39.123214</td>\n",
       "      <td>4.802000</td>\n",
       "    </tr>\n",
       "    <tr>\n",
       "      <th>22</th>\n",
       "      <td>90.0</td>\n",
       "      <td>3600.0</td>\n",
       "      <td>34.736756</td>\n",
       "      <td>4.605745</td>\n",
       "    </tr>\n",
       "    <tr>\n",
       "      <th>23</th>\n",
       "      <td>90.0</td>\n",
       "      <td>4500.0</td>\n",
       "      <td>41.298563</td>\n",
       "      <td>3.999007</td>\n",
       "    </tr>\n",
       "    <tr>\n",
       "      <th>24</th>\n",
       "      <td>100.0</td>\n",
       "      <td>1800.0</td>\n",
       "      <td>6.409320</td>\n",
       "      <td>6.049719</td>\n",
       "    </tr>\n",
       "    <tr>\n",
       "      <th>25</th>\n",
       "      <td>100.0</td>\n",
       "      <td>2700.0</td>\n",
       "      <td>8.911339</td>\n",
       "      <td>5.164412</td>\n",
       "    </tr>\n",
       "    <tr>\n",
       "      <th>26</th>\n",
       "      <td>100.0</td>\n",
       "      <td>3600.0</td>\n",
       "      <td>12.650899</td>\n",
       "      <td>6.389615</td>\n",
       "    </tr>\n",
       "    <tr>\n",
       "      <th>27</th>\n",
       "      <td>100.0</td>\n",
       "      <td>4500.0</td>\n",
       "      <td>8.114306</td>\n",
       "      <td>6.462450</td>\n",
       "    </tr>\n",
       "  </tbody>\n",
       "</table>\n",
       "</div>"
      ],
      "text/plain": [
       "    Penetration    Time  Lane_Change  Dwell_Time\n",
       "0           0.0  1800.0    19.922608    7.182969\n",
       "1           0.0  2700.0     0.761928    4.370458\n",
       "2           0.0  3600.0    43.849896    3.682951\n",
       "3           0.0  4500.0    20.973298    6.868386\n",
       "4          10.0  1800.0    39.497624    3.719330\n",
       "5          10.0  2700.0    39.477320    5.853188\n",
       "6          10.0  3600.0    44.556275    3.658737\n",
       "7          10.0  4500.0    13.002237    6.093221\n",
       "8          30.0  1800.0    43.873978    6.230345\n",
       "9          30.0  2700.0    17.470717    3.061708\n",
       "10         30.0  3600.0     3.347172    4.244557\n",
       "11         30.0  4500.0    39.077985    3.993065\n",
       "12         50.0  1800.0     4.004143    4.979567\n",
       "13         50.0  2700.0    10.451540    4.095994\n",
       "14         50.0  3600.0     3.153085    6.507773\n",
       "15         50.0  4500.0     9.702720    3.305125\n",
       "16         70.0  1800.0    19.847671    3.450534\n",
       "17         70.0  2700.0    41.910588    5.184573\n",
       "18         70.0  3600.0    42.696947    7.436123\n",
       "19         70.0  4500.0     1.683064    4.704682\n",
       "20         90.0  1800.0    10.971661    3.230981\n",
       "21         90.0  2700.0    39.123214    4.802000\n",
       "22         90.0  3600.0    34.736756    4.605745\n",
       "23         90.0  4500.0    41.298563    3.999007\n",
       "24        100.0  1800.0     6.409320    6.049719\n",
       "25        100.0  2700.0     8.911339    5.164412\n",
       "26        100.0  3600.0    12.650899    6.389615\n",
       "27        100.0  4500.0     8.114306    6.462450"
      ]
     },
     "execution_count": 21,
     "metadata": {},
     "output_type": "execute_result"
    }
   ],
   "source": [
    "\n",
    "CAB = csv = pd.read_csv(r'C:\\Users\\hp\\OneDrive - UNSW\\Honours student Sai\\Danial\\Codes\\Plots_heatmaps\\CAB.csv', delimiter=\",\", dtype=float)\n",
    "Bus = csv = pd.read_csv(r'C:\\Users\\hp\\OneDrive - UNSW\\Honours student Sai\\Danial\\Codes\\Plots_heatmaps\\Bus.csv', delimiter=\",\", dtype=float)\n",
    "\n",
    "CAB\n",
    "#Bus"
   ]
  },
  {
   "cell_type": "code",
   "execution_count": 24,
   "metadata": {},
   "outputs": [
    {
     "name": "stdout",
     "output_type": "stream",
     "text": [
      "10.71095584\n",
      "0.761927592\n",
      "0.761927592\n",
      "1.7058259619999998\n",
      "3.061708261\n",
      "1.7058259619999998\n"
     ]
    }
   ],
   "source": [
    "print(min(Bus['Lane_Change']))\n",
    "print(min(CAB['Lane_Change']))\n",
    "LaneChangeLower = min(min(Bus['Lane_Change']), min(CAB['Lane_Change']))\n",
    "print(LaneChangeLower)\n",
    "\n",
    "print(min(Bus['Dwell_Time']))\n",
    "print(min(CAB['Dwell_Time']))\n",
    "DwellTimeLower = min(min(Bus['Dwell_Time']), min(CAB['Dwell_Time']))\n",
    "print(DwellTimeLower)"
   ]
  },
  {
   "cell_type": "code",
   "execution_count": 32,
   "metadata": {},
   "outputs": [
    {
     "name": "stdout",
     "output_type": "stream",
     "text": [
      "34.78262411\n",
      "44.55627481\n",
      "44.55627481\n",
      "6.262147334\n",
      "7.4361230670000005\n",
      "7.4361230670000005\n"
     ]
    }
   ],
   "source": [
    "print(max(Bus['Lane_Change']))\n",
    "print(max(CAB['Lane_Change']))\n",
    "LaneChangeHigh = max(max(Bus['Lane_Change']), max(CAB['Lane_Change']))\n",
    "print(LaneChangeHigh)\n",
    "\n",
    "print(max(Bus['Dwell_Time']))\n",
    "print(max(CAB['Dwell_Time']))\n",
    "DwellTimeHigh = max(max(Bus['Dwell_Time']), max(CAB['Dwell_Time']))\n",
    "print(DwellTimeHigh)"
   ]
  },
  {
   "cell_type": "code",
   "execution_count": 33,
   "metadata": {},
   "outputs": [
    {
     "data": {
      "image/png": "[encoded data removed]",
      "text/plain": [
       "<Figure size 576x432 with 1 Axes>"
      ]
     },
     "metadata": {
      "needs_background": "light"
     },
     "output_type": "display_data"
    }
   ],
   "source": [
    "fig = plt.figure(figsize=(8, 6))\n",
    "ax = fig.add_subplot(111)\n",
    "\n",
    "ax = sns.kdeplot(Bus['Lane_Change'], Bus['Dwell_Time'],\n",
    "                  cmap=\"YlOrBr\", shade=True, shade_lowest=False)\n",
    "#MAKE SURE THAT THE AXES LIMITS ARE SAME\n",
    "#ax.set_xlim([DwellTimeLower, DwellTimeHigh]) #change this is with consistent \n",
    "#ax.set_ylim([LaneChangeLower, LaneChangeHigh])"
   ]
  },
  {
   "cell_type": "code",
   "execution_count": 34,
   "metadata": {},
   "outputs": [
    {
     "data": {
      "image/png": "[encoded data removed]",
      "text/plain": [
       "<Figure size 576x432 with 1 Axes>"
      ]
     },
     "metadata": {
      "needs_background": "light"
     },
     "output_type": "display_data"
    }
   ],
   "source": [
    "fig = plt.figure(figsize=(8, 6))\n",
    "ax = fig.add_subplot(111)\n",
    "\n",
    "\n",
    "ax = sns.kdeplot(CAB['Lane_Change'], CAB['Dwell_Time'],\n",
    "                  cmap=\"Reds\", shade=True, shade_lowest=False)\n",
    "\n",
    "\n",
    "#ax.set_xlim([DwellTimeLower, DwellTimeHigh]) #change this is with consistent \n",
    "#ax.set_ylim([LaneChangeLower, LaneChangeHigh])"
   ]
  },
  {
   "cell_type": "markdown",
   "metadata": {},
   "source": [
    "# Scatter Plot\n",
    "\n",
    "plt.xlabel('Sulphates')\n",
    "plt.ylabel('Alcohol')\n",
    "plt.title('Wine Sulphates - Alcohol Content',y=1.05)\n",
    "\n",
    "\n",
    "# Joint Plot\n",
    "jp = sns.jointplot(x='Lane_Change', y='Dwell_Time', data=CAB,\n",
    "                   kind='reg', space=0, size=5, ratio=4)"
   ]
  },
  {
   "cell_type": "code",
   "execution_count": 35,
   "metadata": {},
   "outputs": [
    {
     "data": {
      "image/png": "[encoded data removed]",
      "text/plain": [
       "<Figure size 576x432 with 1 Axes>"
      ]
     },
     "metadata": {
      "needs_background": "light"
     },
     "output_type": "display_data"
    }
   ],
   "source": [
    "fig = plt.figure(figsize=(8, 6))\n",
    "ax = fig.add_subplot(111)\n",
    "\n",
    "ax = sns.kdeplot(Bus['Lane_Change'], Bus['Dwell_Time'],\n",
    "                  cmap=\"YlOrBr\", shade=True, shade_lowest=False)\n",
    "\n",
    "ax = sns.kdeplot(CAB['Lane_Change'], CAB['Dwell_Time'],\n",
    "                  cmap=\"Reds\", shade=True, shade_lowest=False)\n",
    "\n",
    "#ax.set_xlim([DwellTimeLower, DwellTimeHigh]) #change this is with consistent \n",
    "#ax.set_ylim([LaneChangeLower, LaneChangeHigh])"
   ]
  },
  {
   "cell_type": "code",
   "execution_count": null,
   "metadata": {},
   "outputs": [],
   "source": []
  },
  {
   "cell_type": "code",
   "execution_count": null,
   "metadata": {},
   "outputs": [],
   "source": []
  },
  {
   "cell_type": "code",
   "execution_count": null,
   "metadata": {},
   "outputs": [],
   "source": []
  }
 ],
 "metadata": {
  "kernelspec": {
   "display_name": "Python 3",
   "language": "python",
   "name": "python3"
  },
  "language_info": {
   "codemirror_mode": {
    "name": "ipython",
    "version": 3
   },
   "file_extension": ".py",
   "mimetype": "text/x-python",
   "name": "python",
   "nbconvert_exporter": "python",
   "pygments_lexer": "ipython3",
   "version": "3.7.3"
  }
 },
 "nbformat": 4,
 "nbformat_minor": 4
}
