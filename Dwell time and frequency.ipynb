{
 "cells": [
  {
   "cell_type": "code",
   "execution_count": null,
   "metadata": {},
   "outputs": [],
   "source": [
    "print(\"This is for 0% CAV penetration and seed 1\") #just for observing activity on console\n",
    "\n",
    "import pandas as pd\n",
    "import numpy as np\n",
    "import time \n",
    "import threading\n",
    "import math \n",
    "from time import sleep\n",
    "from multiprocessing import Process\n",
    "import os #Import os for creating a directory\n",
    "\n",
    "t=time.time() #running time for code"
   ]
  },
  {
   "cell_type": "code",
   "execution_count": null,
   "metadata": {},
   "outputs": [],
   "source": [
    "#creating a dictionary for buses\n",
    "#Insert the address of the fhz file \n",
    "print(\"importing vehicle ID information and creating dict for bus IDs\")\n",
    "df = pd.read_csv(r'C:\\Users\\z5130037\\OneDrive - UNSW\\Honours student Sai\\Danial\\Sample_Data\\2minute3x3\\3x3FHZ.csv', delimiter = ';', names = ['Time','Link','Lane', 'VehNo','VehType', 'Line', 'DesSpeed'], dtype = {'Time' : float , 'Link' : float, 'Lane' : float, 'VehNo' : float, 'VehType' : float,'Line' : float, 'DesSpeed' : float }, skiprows =1, index_col=False)\n",
    "#df"
   ]
  },
  {
   "cell_type": "code",
   "execution_count": null,
   "metadata": {},
   "outputs": [],
   "source": [
    "Bus = df.loc[df['VehType'] == 300]  #Check which ID is for CABs and change here acording to that. \n",
    "Bus = Bus['VehNo']\n",
    "Bus = Bus.to_csv((r\"C:\\\\Users\\\\z5130037\\\\OneDrive - UNSW\\Honours student Sai\\\\Danial\\\\Sample_Data\\\\2minute3x3\\\\BUS.csv\"))\n",
    "Bus= pd.read_csv(r\"C:\\\\Users\\\\z5130037\\\\OneDrive - UNSW\\\\Honours student Sai\\\\Danial\\\\Sample_Data\\\\2minute3x3\\\\BUS.csv\", delimiter= ',', names = ['VehicleID'])\n",
    "length_bus = len(bus)\n",
    "print(\"number of buses in the network =\"+ str(length_bus))"
   ]
  },
  {
   "cell_type": "code",
   "execution_count": null,
   "metadata": {},
   "outputs": [],
   "source": [
    "#Import the link and lane information:\n",
    "print(\"importig bus stop lane and link information\")\n",
    "df_link = pd.read_csv(r'C:\\Users\\z5130037\\OneDrive - UNSW\\Honours student Sai\\Danial\\Codes\\Randwick_bus_stop_data.csv', delimiter = ',', index_col=False)\n",
    "length_link = len(df_link)\n",
    "print(\"number of links in the network\"+str(length_link))"
   ]
  },
  {
   "cell_type": "code",
   "execution_count": null,
   "metadata": {},
   "outputs": [],
   "source": [
    "#PARAMETERS -> USER DEFINED\n",
    "simulation_time_step=0.05 #simulation time step\n",
    "threadblocks=70\n",
    "minlinkV=1\n",
    "maxlinkV=(350+1)\n",
    "#READING THE FZP CONVERTED CSV FILE AND GETTING THE CORRESPONDING VALUES\n",
    "print(\"Importing fzp file\")\n",
    "df = pd.read_csv('/mnt/amolikaS_storage/amolikaS/Mydata/Amolika/My_Results/FZPfiles/0%/FinalModel0%_001.csv', delimiter=';', names = ['time', 'no', 'link', 'lane', 'pos', 'poslat'], dtype={\"time\": float, \"no\": int, \"link\": int, \"lane\": int, \"pos\": float, \"poslat\": float })\n",
    "print(\"Bingo! fzp file imported :)\")\n",
    "#This is the address of the input file. "
   ]
  },
  {
   "cell_type": "code",
   "execution_count": null,
   "metadata": {},
   "outputs": [],
   "source": [
    "def split_data(number1, number2): #number 1 and number 2 are the time \n",
    "    df_15 = df.loc[(df['Time'] > number1) & (df['Time'] <= number 2)]\n",
    "    return df_15"
   ]
  },
  {
   "cell_type": "markdown",
   "metadata": {},
   "source": [
    "df_15 = df.loc[(df['Time'] >= 0) & (df['Time'] <= 15 minutes)]\n",
    "\n",
    "df_30 = df.loc[(df['Time'] > 15 minutes) & (df['Time'] <= 30 minutes)]\n",
    "\n",
    "df_45 = df.loc[(df['Time'] > 30 minutes) & (df['Time'] <= 45 minutes)]\n",
    "\n",
    "df_60 = df.loc[(df['Time'] > 45 minutes) & (df['Time'] <= 60 minutes)]"
   ]
  },
  {
   "cell_type": "code",
   "execution_count": null,
   "metadata": {},
   "outputs": [],
   "source": [
    "def calc(number1, number2): #import  pandas dataframe as argument\n",
    "\n",
    "    df = split_data(number1, number2)\n",
    "\n",
    "    for p in range (0, length_link):\n",
    "\n",
    "        link_number = df_link.iloc[p,0] #Input the link number here\n",
    "        lane_number = df_link.iloc[p,1] #Input the lane number\n",
    "\n",
    "        link_data = df.loc[df['link'] == link_number]\n",
    "        link_lane_data = link_data.loc[link_data['lane'] == lane number]\n",
    "\n",
    "        for a in range (0, length_bus):\n",
    "            if vehicle_number == bus.iloc[a,0]:\n",
    "\n",
    "                trajectory = df.loc[df['no'] == vehicle_number]\n",
    "                length_trajectory = len(trajectory)\n",
    "                    print(\"link number =\"+str(link_number)+ \"lane number =\"+ str(lane_number)+ \"vehicle number =\"+ str(vehicle_number)+ \"lenghth of trajectory file\"+ str(length))  #total number of rows\n",
    "                    if length_trajectory>2:\n",
    "                        pos = trajectory['pos']\n",
    "                        pos1 = pos.iloc[:(length-2)]\n",
    "                        pos2 = pos.drop([0], axis=0)\n",
    "                        #pos2.reindex()\n",
    "                        pos2.reset_index(drop=True, inplace=True)\n",
    "                        posoutput = pos2.sub(pos1)\n",
    "                        speed = posoutput.div(simulation_time_step)\n",
    "                    finaldf = pd.DataFrame({'position':pos, 'speed':speed,)\n",
    "                    finaldf.drop(finaldf.tail(2).index, inplace=True)\n",
    "                    finaldf.to_csv((r\"/mnt/amolikaS_storage/amolikaS/Mydata/Amolika/My_Results/FZPfiles/0%/fzp_sampleRaw2111/\" +\"Link\"+str(link_number) +\"_bus\" + str(vhicle_number) +\".csv\"))\n",
    "                    count = finaldf.loc[finaldf['speed'] == 0]\n",
    "                    dwell_time= len(count)*simulation_time_step\n",
    "                    countdf = pd.DataFrame({'link':link_number, 'lane':lane_number,'bus ID': vehicle_number 'dwell time': dwell_time})\n",
    "                    #countdf.drop(finaldf.tail(2).index, inplace=True)\n",
    "                    countdf.to_csv((r\"/mnt/amolikaS_storage/amolikaS/Mydata/Amolika/My_Results/FZPfiles/0%/fzp_sampleRaw2111/\" +\"Link\"+str(link_number) +\"_bus\" + str(vhicle_number) +\".csv\"))\n",
    "\n",
    "        print(\"Bazinga! link \"+ str(link_number) + \"is completed\")\n",
    "                                        \n",
    "\n"
   ]
  },
  {
   "cell_type": "markdown",
   "metadata": {},
   "source": [
    "15 minutes would be 1800s, \n",
    "30 minutes would be 2700s, \n",
    "45 minutes would be 3600s; \n",
    "1 hour would be 4500s;"
   ]
  },
  {
   "cell_type": "code",
   "execution_count": null,
   "metadata": {},
   "outputs": [],
   "source": [
    "t1 = Process(target=calc, args= (0,1800))\n",
    "t2 = Process(target=calc, args= (1800,2700))\n",
    "t3 = Process(target=calc_jerkrate, args= (2700,3600))\n",
    "t4 = Process(target=calc_jerkrate, args= (3600,4500))"
   ]
  },
  {
   "cell_type": "code",
   "execution_count": null,
   "metadata": {},
   "outputs": [],
   "source": [
    "t1.start()\n",
    "t2.start()\n",
    "t3.start()\n",
    "t4.start()"
   ]
  },
  {
   "cell_type": "code",
   "execution_count": null,
   "metadata": {},
   "outputs": [],
   "source": [
    "t1.join()\n",
    "t2.join()\n",
    "t3.join()\n",
    "t4.join()\n",
    "print(\"done in : \", time.time()-t)\n",
    "print(\"Bazinga! I have first 15 minutes completed the job \")"
   ]
  }
 ],
 "metadata": {
  "kernelspec": {
   "display_name": "Python 3",
   "language": "python",
   "name": "python3"
  },
  "language_info": {
   "codemirror_mode": {
    "name": "ipython",
    "version": 3
   },
   "file_extension": ".py",
   "mimetype": "text/x-python",
   "name": "python",
   "nbconvert_exporter": "python",
   "pygments_lexer": "ipython3",
   "version": "3.7.6"
  }
 },
 "nbformat": 4,
 "nbformat_minor": 2
}
