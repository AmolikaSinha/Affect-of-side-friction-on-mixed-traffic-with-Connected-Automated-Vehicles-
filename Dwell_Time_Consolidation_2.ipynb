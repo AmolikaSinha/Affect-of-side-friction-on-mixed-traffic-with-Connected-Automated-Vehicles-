{
 "cells": [
  {
   "cell_type": "code",
   "execution_count": 1,
   "metadata": {},
   "outputs": [],
   "source": [
    "import pandas as pd\n",
    "import numpy as np\n",
    "import matplotlib.pyplot as plt\n",
    "import os\n",
    "import glob\n",
    "import time"
   ]
  },
  {
   "cell_type": "code",
   "execution_count": 2,
   "metadata": {},
   "outputs": [
    {
     "name": "stdout",
     "output_type": "stream",
     "text": [
      "556\n"
     ]
    }
   ],
   "source": [
    "t1=time.time() #running time for code\n",
    "#path = r'H:\\Waymo\\Waymo Filtered\\Traffic_Light\\\\'\n",
    "path_dl = r'C:\\Users\\hp\\OneDrive - UNSW\\Honours student Sai\\Danial\\Codes\\DwelltimeConsolidation\\DwellTime_Results\\\\'\n",
    "extension = 'csv'\n",
    "os.chdir(path_dl)\n",
    "list_dwell_time = glob.glob('*.{}'.format(extension))\n",
    "#result_traffic_light.pop()\n",
    "print(len(list_dwell_time))"
   ]
  },
  {
   "cell_type": "code",
   "execution_count": 3,
   "metadata": {},
   "outputs": [
    {
     "name": "stdout",
     "output_type": "stream",
     "text": [
      "4\n"
     ]
    }
   ],
   "source": [
    "t1=time.time() #running time for code\n",
    "#path = r'H:\\Waymo\\Waymo Filtered\\Traffic_Light\\\\'\n",
    "path_lc = r'C:\\Users\\hp\\OneDrive - UNSW\\Honours student Sai\\Danial\\Codes\\DwelltimeConsolidation\\LANECHANGE\\\\'\n",
    "extension = 'csv'\n",
    "os.chdir(path_lc)\n",
    "list_lane_change = glob.glob('*.{}'.format(extension))\n",
    "#result_traffic_light.pop()\n",
    "print(len(list_lane_change))"
   ]
  },
  {
   "cell_type": "code",
   "execution_count": 4,
   "metadata": {},
   "outputs": [],
   "source": [
    "# Directory \n",
    "directory = \"Processed2\"\n",
    "# Parent Directory path \n",
    "parent_dir = path_lc \n",
    "# Path \n",
    "path = os.path.join(parent_dir, directory) \n",
    "\n",
    "os.mkdir(path) "
   ]
  },
  {
   "cell_type": "markdown",
   "metadata": {},
   "source": [
    "j = list_lane_change[0]\n",
    "    lane_time_number = float(j[12:-4])\n",
    "    \n",
    "    for i in list_dwell_time:\n",
    "        dl_link_number = float(i[6:-17])\n",
    "        #print(\"link number is \"+ str(dl_link_number))\n",
    "        dl_time_number = float(i[15:-7])\n",
    "        #print(\"time is \" + str(dl_time_number))    \n",
    "    \n",
    "        if (lane_time_number ==  dl_time_number):\n",
    "            dataF = pd.read_csv(path_lc+j)\n",
    "            dataF.insert(6, \"dwell time\", value =0)\n",
    "            row_index = dataF[dataF['Link ID'] == dl_link_number].index\n",
    "            dataN = pd.read_csv(path_dl+i)\n",
    "            #print(dataN['dwell time'])\n",
    "            sum_dl = ((dataN['dwell time']).sum())\n",
    "            dataF.iloc[row_index, 6] = sum_dl"
   ]
  },
  {
   "cell_type": "code",
   "execution_count": 5,
   "metadata": {},
   "outputs": [],
   "source": [
    "j = list_lane_change[0]\n",
    "lane_time_number = float(j[12:-4])\n",
    "dataF = pd.read_csv(path_lc+j)\n",
    "dataF.insert(6, \"dwell time\", value =0) \n",
    "\n",
    "for i in list_dwell_time:\n",
    "    dl_link_number = float(i[6:-17])\n",
    "    #print(\"link number is \"+ str(dl_link_number))\n",
    "    dl_time_number = float(i[15:-7])\n",
    "    #print(\"time is \" + str(dl_time_number))    \n",
    "    if (lane_time_number ==  dl_time_number):\n",
    "        dataN = pd.read_csv(path_dl+i) \n",
    "        \n",
    "        row_index = dataF[dataF['Link ID'] == dl_link_number].index\n",
    "        sum_dl = ((dataN['dwell time']).sum())\n",
    "        dataF.iloc[row_index, 6] = sum_dl\n",
    "dataF.to_csv(r\"C:\\Users\\hp\\OneDrive - UNSW\\Honours student Sai\\Danial\\Codes\\DwelltimeConsolidation\\LANECHANGE\\Processed2\\Processed_LaneChange0-1800.csv\") "
   ]
  },
  {
   "cell_type": "code",
   "execution_count": 6,
   "metadata": {},
   "outputs": [],
   "source": [
    "j = list_lane_change[1]\n",
    "lane_time_number = float(j[15:-4])\n",
    "dataF = pd.read_csv(path_lc+j)\n",
    "dataF.insert(6, \"dwell time\", value =0) \n",
    "\n",
    "for i in list_dwell_time:\n",
    "    dl_link_number = float(i[6:-17])\n",
    "    #print(\"link number is \"+ str(dl_link_number))\n",
    "    dl_time_number = float(i[15:-7])\n",
    "    #print(\"time is \" + str(dl_time_number))    \n",
    "    if (lane_time_number ==  dl_time_number):\n",
    "        dataN = pd.read_csv(path_dl+i) \n",
    "        \n",
    "        row_index = dataF[dataF['Link ID'] == dl_link_number].index\n",
    "        sum_dl = ((dataN['dwell time']).sum())\n",
    "        dataF.iloc[row_index, 6] = sum_dl\n",
    "dataF.to_csv(r\"C:\\Users\\hp\\OneDrive - UNSW\\Honours student Sai\\Danial\\Codes\\DwelltimeConsolidation\\LANECHANGE\\Processed2\\Processed_LaneChange1800-2700.csv\") "
   ]
  },
  {
   "cell_type": "code",
   "execution_count": 7,
   "metadata": {},
   "outputs": [],
   "source": [
    "j = list_lane_change[1]\n",
    "lane_time_number = float(j[15:-4])\n",
    "dataF = pd.read_csv(path_lc+j)\n",
    "dataF.insert(6, \"dwell time\", value =0) \n",
    "\n",
    "for i in list_dwell_time:\n",
    "    dl_link_number = float(i[6:-17])\n",
    "    #print(\"link number is \"+ str(dl_link_number))\n",
    "    dl_time_number = float(i[15:-7])\n",
    "    #print(\"time is \" + str(dl_time_number))    \n",
    "    if (lane_time_number ==  dl_time_number):\n",
    "        dataN = pd.read_csv(path_dl+i) \n",
    "        \n",
    "        row_index = dataF[dataF['Link ID'] == dl_link_number].index\n",
    "        sum_dl = ((dataN['dwell time']).sum())\n",
    "        dataF.iloc[row_index, 6] = sum_dl\n",
    "dataF.to_csv(r\"C:\\Users\\hp\\OneDrive - UNSW\\Honours student Sai\\Danial\\Codes\\DwelltimeConsolidation\\LANECHANGE\\Processed2\\Processed_LaneChange2700-3600.csv\") "
   ]
  },
  {
   "cell_type": "code",
   "execution_count": 8,
   "metadata": {},
   "outputs": [],
   "source": [
    "j = list_lane_change[3]\n",
    "lane_time_number = float(j[15:-4])\n",
    "dataF = pd.read_csv(path_lc+j)\n",
    "dataF.insert(6, \"dwell time\", value =0) \n",
    "\n",
    "for i in list_dwell_time:\n",
    "    dl_link_number = float(i[6:-17])\n",
    "    #print(\"link number is \"+ str(dl_link_number))\n",
    "    dl_time_number = float(i[15:-7])\n",
    "    #print(\"time is \" + str(dl_time_number))    \n",
    "    if (lane_time_number ==  dl_time_number):\n",
    "        dataN = pd.read_csv(path_dl+i) \n",
    "        \n",
    "        row_index = dataF[dataF['Link ID'] == dl_link_number].index\n",
    "        sum_dl = ((dataN['dwell time']).sum())\n",
    "        dataF.iloc[row_index, 6] = sum_dl\n",
    "dataF.to_csv(r\"C:\\Users\\hp\\OneDrive - UNSW\\Honours student Sai\\Danial\\Codes\\DwelltimeConsolidation\\LANECHANGE\\Processed2\\Processed_LaneChange3600-4500.csv\") "
   ]
  },
  {
   "cell_type": "code",
   "execution_count": null,
   "metadata": {},
   "outputs": [],
   "source": []
  }
 ],
 "metadata": {
  "kernelspec": {
   "display_name": "Python 3",
   "language": "python",
   "name": "python3"
  },
  "language_info": {
   "codemirror_mode": {
    "name": "ipython",
    "version": 3
   },
   "file_extension": ".py",
   "mimetype": "text/x-python",
   "name": "python",
   "nbconvert_exporter": "python",
   "pygments_lexer": "ipython3",
   "version": "3.7.6"
  }
 },
 "nbformat": 4,
 "nbformat_minor": 4
}
